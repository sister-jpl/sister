{
 "cells": [
  {
   "cell_type": "markdown",
   "id": "92f1151e",
   "metadata": {},
   "source": [
    "# SISTER workflow"
   ]
  },
  {
   "cell_type": "code",
   "execution_count": 24,
   "id": "af102d2f",
   "metadata": {},
   "outputs": [],
   "source": [
    "import json\n",
    "import os\n",
    "import xml.etree.ElementTree as ET\n",
    "import pandas as pd\n",
    "import IPython\n",
    "from itertools import groupby\n",
    "\n",
    "# Import warnings module and ignore warnings in output below\n",
    "import warnings\n",
    "warnings.filterwarnings(\"ignore\")\n",
    "\n",
    "# Import and initialize MAAP class\n",
    "from maap.maap import MAAP\n",
    "maap = MAAP(maap_host=\"sister-api.imgspec.org\")"
   ]
  },
  {
   "cell_type": "markdown",
   "id": "0f2a42bb",
   "metadata": {},
   "source": [
    "### Create unique scene identifier"
   ]
  },
  {
   "cell_type": "code",
   "execution_count": 25,
   "id": "f191030c",
   "metadata": {},
   "outputs": [
    {
     "name": "stdout",
     "output_type": "stream",
     "text": [
      "{'sensor': 'PRISMA', 'datetime': '20200911T170127', 'crid': '985', 'preprocess': {'raw_dataset': 'https://sister-ops-workspace.s3.us-west-2.amazonaws.com/prisma/raw/PRS_L1_STD_OFFL_20200911170127_20200911170131_0001.zip', 'landsat_dataset': 'https://sister-ops-workspace.s3.us-west-2.amazonaws.com/prisma/landsat_reference/PRS_20200911170127_20200911170131_0001_landsat.tar.gz'}}\n",
      "{'sensor': 'AVCL', 'datetime': '20170507T010011', 'crid': '985', 'preprocess': {'raw_dataset': 'https://popo.jpl.nasa.gov/avcl/y17_data/f170507t01p00r11.tar.gz', 'landsat_dataset': 'None'}}\n",
      "{'sensor': 'AVNG', 'datetime': '20180429t045252', 'crid': '985', 'preprocess': {'raw_dataset': 'https://avng.jpl.nasa.gov/avng/y18_data/ang20180429t045252.tar.gz', 'landsat_dataset': 'None'}}\n",
      "{'sensor': 'DESIS', 'datetime': '20190609T195930', 'crid': '985', 'preprocess': {'raw_dataset': 'https://sister-ops-workspace.s3.us-west-2.amazonaws.com/desis/raw/DESIS-HSI-L1C-DT0327290940_002-20190609T195930-V0210.zip', 'landsat_dataset': 'None'}}\n"
     ]
    }
   ],
   "source": [
    "granules = ['https://sister-ops-workspace.s3.us-west-2.amazonaws.com/prisma/raw/PRS_L1_STD_OFFL_20200911170127_20200911170131_0001.zip',\n",
    "            'https://popo.jpl.nasa.gov/avcl/y17_data/f170507t01p00r11.tar.gz',\n",
    "            'https://avng.jpl.nasa.gov/avng/y18_data/ang20180429t045252.tar.gz',\n",
    "            'https://sister-ops-workspace.s3.us-west-2.amazonaws.com/desis/raw/DESIS-HSI-L1C-DT0327290940_002-20190609T195930-V0210.zip']\n",
    "\n",
    "meta = 'TAG_TESTING'\n",
    "\n",
    "scenes = []\n",
    "\n",
    "crid = \"985\"\n",
    "\n",
    "for l1_granule in granules:\n",
    "    \n",
    "    landsat = 'None'   \n",
    "\n",
    "    base_name = os.path.basename(l1_granule)\n",
    "\n",
    "    if base_name.startswith('DESIS'):\n",
    "        sensor = 'DESIS'\n",
    "        datetime = base_name[31:46]\n",
    "\n",
    "    elif base_name.startswith('PRS'):\n",
    "        sensor = 'PRISMA'\n",
    "        datetime = base_name[16:24] + 'T' + base_name[24:30]\n",
    "        landsat='https://sister-ops-workspace.s3.us-west-2.amazonaws.com/prisma/landsat_reference/PRS_%s_landsat.tar.gz' % base_name[16:50]\n",
    "\n",
    "    elif base_name.startswith('ang'):\n",
    "        sensor = 'AVNG'\n",
    "        datetime = base_name[3:18]\n",
    "\n",
    "    elif base_name.startswith('f'):\n",
    "        sensor = 'AVCL'\n",
    "        ''' AVIRIS classic filenames do not contain acquisition times,to be consistent with other\n",
    "            sensors and to ensure identifier codes are unique a time string is created using other\n",
    "            numbers in the filename            \n",
    "        '''     \n",
    "\n",
    "        datetime = \"20%sT%s%s%s\" % (base_name[1:7],\n",
    "                                    base_name[8:10],\n",
    "                                    base_name[11:13],\n",
    "                                    base_name[14:16])\n",
    "    else:\n",
    "        raise ValueError('Unrecognized L1 datafile')\n",
    "\n",
    "    job_args = {'sensor': sensor,\n",
    "                'datetime': datetime,\n",
    "                 'crid' : crid}\n",
    "    job_args['preprocess'] = {'raw_dataset': l1_granule,\n",
    "                              'landsat_dataset' : landsat}\n",
    "\n",
    "    print(job_args)\n",
    "    \n",
    "    scenes.append(job_args)\n"
   ]
  },
  {
   "cell_type": "markdown",
   "id": "46d7584d",
   "metadata": {},
   "source": [
    "## Step 1. Preprocess"
   ]
  },
  {
   "cell_type": "code",
   "execution_count": 26,
   "id": "a716c10d",
   "metadata": {},
   "outputs": [
    {
     "name": "stdout",
     "output_type": "stream",
     "text": [
      "Identifier: SISTER_PRISMA_L1B_RDN_20200911T170127_985_TAG_TESTING\n",
      "Submission status: success\n",
      "Job ID: b09a2589-62a2-4d33-b7a6-5b6b5ccf8ec4\n",
      "Identifier: SISTER_AVCL_L1B_RDN_20170507T010011_985_TAG_TESTING\n",
      "Submission status: success\n",
      "Job ID: 550ca2fd-17c4-4279-9d07-07a46268f807\n",
      "Identifier: SISTER_AVNG_L1B_RDN_20180429t045252_985_TAG_TESTING\n",
      "Submission status: success\n",
      "Job ID: 6cd47ebe-a557-4943-aa4d-0ba185cf817c\n",
      "Identifier: SISTER_DESIS_L1B_RDN_20190609T195930_985_TAG_TESTING\n",
      "Submission status: success\n",
      "Job ID: e3d597ee-ecb9-4264-96bf-bb34f956497d\n"
     ]
    }
   ],
   "source": [
    "for i,scene in enumerate(scenes):\n",
    "        \n",
    "    if scene['sensor'] == 'AVCL':\n",
    "        queue=\"sister-job_worker-32gb\"\n",
    "    else:\n",
    "        queue=\"sister-job_worker-16gb\"\n",
    "    \n",
    "    identifier = f'SISTER_{scene[\"sensor\"]}_L1B_RDN_{scene[\"datetime\"]}_{scene[\"crid\"]}_{meta}'\n",
    "    \n",
    "    preprocess_job_response = maap.submitJob(\n",
    "        algo_id = \"sister-preprocess\",\n",
    "        version = \"2.0.0\",\n",
    "        raw_dataset = scene['preprocess']['raw_dataset'],\n",
    "        landsat_dataset = scene['preprocess']['landsat_dataset'],\n",
    "        crid = scene['crid'],\n",
    "        publish_to_cmr = False,\n",
    "        cmr_metadata={},\n",
    "        queue=queue,\n",
    "        identifier= identifier)\n",
    "\n",
    "    print(f'Identifier: {identifier}')\n",
    "    print(f'Submission status: {preprocess_job_response.status}')\n",
    "    print(f'Job ID: {preprocess_job_response.id}')\n",
    "          \n",
    "    scenes[i]['preprocess']['job_id'] = preprocess_job_response.id\n",
    "    "
   ]
  },
  {
   "cell_type": "markdown",
   "id": "5f4d3b77",
   "metadata": {},
   "source": [
    "## Step 2. ISOFIT\n"
   ]
  },
  {
   "cell_type": "code",
   "execution_count": 27,
   "id": "565fa276",
   "metadata": {},
   "outputs": [
    {
     "name": "stdout",
     "output_type": "stream",
     "text": [
      "Identifier: SISTER_PRISMA_L2A_RFL_20200911T170127_985_TAG_TESTING\n",
      "Submission status: success\n",
      "Job ID: a8390b87-949a-4430-a09a-7522f1f1ccc0\n",
      "Identifier: SISTER_AVCL_L2A_RFL_20170507T010011_985_TAG_TESTING\n",
      "Submission status: success\n",
      "Job ID: 250b9971-ae8d-45b5-b05d-99f4d8cae554\n",
      "Identifier: SISTER_AVNG_L2A_RFL_20180429t045252_985_TAG_TESTING\n",
      "Submission status: success\n",
      "Job ID: bc812462-2b5f-44ae-a808-2f82abbc2e59\n",
      "Identifier: SISTER_DESIS_L2A_RFL_20190609T195930_985_TAG_TESTING\n",
      "Submission status: success\n",
      "Job ID: b952c3c3-cf25-4528-9f41-8656cb444a68\n"
     ]
    }
   ],
   "source": [
    "for i,scene in enumerate(scenes):\n",
    "        \n",
    "    if scene['sensor'] == 'AVCL':\n",
    "        segmentation_size = 100\n",
    "    else:\n",
    "        segmentation_size = 100\n",
    "    \n",
    "    identifier = f'SISTER_{scene[\"sensor\"]}_L2A_RFL_{scene[\"datetime\"]}_{scene[\"crid\"]}_{meta}'\n",
    "    \n",
    "    preprocess_id = scene['preprocess']['job_id'] \n",
    "    \n",
    "    preprocess_result= [ x for x in maap.getJobResult(preprocess_id).outputs if x.startswith(\"s3://s3.\") and \"RDN\" in x]\n",
    "    preprocess_result.sort()\n",
    "    l1b_rdn,l1b_loc, l1b_obs = preprocess_result\n",
    "    \n",
    "    scene['preprocess']['radiance_dataset'] =l1b_rdn\n",
    "    scene['preprocess']['location_dataset'] =l1b_loc\n",
    "    scene['preprocess']['observation_dataset'] =l1b_obs\n",
    "\n",
    "    isofit_job_response = maap.submitJob(\n",
    "                                    algo_id=\"sister-isofit\",\n",
    "                                    version=\"2.0.0\",\n",
    "                                    radiance_dataset=l1b_rdn,\n",
    "                                    location_dataset = l1b_loc,\n",
    "                                    observation_dataset = l1b_obs,\n",
    "                                    segmentation_size = segmentation_size,\n",
    "                                    n_cores=32,\n",
    "                                    crid = scene['crid'],\n",
    "                                    publish_to_cmr=False,\n",
    "                                    cmr_metadata={},\n",
    "                                    queue=\"sister-job_worker-32gb\",\n",
    "                                    identifier= identifier)\n",
    "\n",
    "    print(f'Identifier: {identifier}')\n",
    "    print(f'Submission status: {isofit_job_response.status}')\n",
    "    print(f'Job ID: {isofit_job_response.id}')\n",
    "    \n",
    "    scene['isofit']  = {'job_id' : isofit_job_response.id}\n"
   ]
  },
  {
   "cell_type": "markdown",
   "id": "512d12bd",
   "metadata": {},
   "source": [
    "## Step 3. Spectral resample"
   ]
  },
  {
   "cell_type": "code",
   "execution_count": 28,
   "id": "e21aeb80",
   "metadata": {},
   "outputs": [
    {
     "name": "stdout",
     "output_type": "stream",
     "text": [
      "Identifier: SISTER_PRISMA_L2A_RSRFL_20200911T170127_985_TAG_TESTING\n",
      "Submission status: success\n",
      "Job ID: f8f6092f-6048-40b6-b955-15c18a73182c\n",
      "Identifier: SISTER_AVCL_L2A_RSRFL_20170507T010011_985_TAG_TESTING\n",
      "Submission status: success\n",
      "Job ID: 25c5e0ce-e349-4926-9c76-bdd07f083bc3\n",
      "Identifier: SISTER_AVNG_L2A_RSRFL_20180429t045252_985_TAG_TESTING\n",
      "Submission status: success\n",
      "Job ID: 5ac85cf9-3546-47d9-b470-aeb8438e1ffb\n",
      "Identifier: SISTER_DESIS_L2A_RSRFL_20190609T195930_985_TAG_TESTING\n",
      "Submission status: success\n",
      "Job ID: c4c201cb-bb78-43de-abeb-08ee3384ea04\n"
     ]
    }
   ],
   "source": [
    "for i,scene in enumerate(scenes):\n",
    "\n",
    "    identifier = f'SISTER_{scene[\"sensor\"]}_L2A_RSRFL_{scene[\"datetime\"]}_{scene[\"crid\"]}_{meta}'\n",
    "    \n",
    "    isofit_id = scene['isofit']['job_id'] \n",
    "\n",
    "    iso_result= [ x for x in maap.getJobResult(isofit_id).outputs if x.startswith(\"s3://s3.\") and \"RFL\" in x]\n",
    "    l2a_rfl,l2a_unc = iso_result\n",
    "        \n",
    "    scene['isofit']['reflectance_dataset'] =l2a_rfl\n",
    "    scene['isofit']['uncertainty_dataset'] =l2a_unc\n",
    "\n",
    "    resample_job_response = maap.submitJob(\n",
    "                                            algo_id=\"sister-resample\",\n",
    "                                            version=\"2.0.0\",\n",
    "                                            reflectance_dataset= l2a_rfl,\n",
    "                                            uncertainty_dataset= l2a_unc,\n",
    "                                            crid = scene['crid'],\n",
    "                                            publish_to_cmr=False,\n",
    "                                            cmr_metadata={},\n",
    "                                            queue=\"sister-job_worker-16gb\",\n",
    "                                            identifier=identifier)\n",
    "\n",
    "    print(f'Identifier: {identifier}')\n",
    "    print('Submission status: %s' % resample_job_response.status)\n",
    "    print('Job ID: %s' % resample_job_response.id)\n",
    "    scene['resample']  = {'job_id' : resample_job_response.id}\n"
   ]
  },
  {
   "cell_type": "markdown",
   "id": "cad6701e",
   "metadata": {},
   "source": [
    "## Step 3. Reflectance correction"
   ]
  },
  {
   "cell_type": "code",
   "execution_count": 29,
   "id": "efb10ad1",
   "metadata": {},
   "outputs": [
    {
     "name": "stdout",
     "output_type": "stream",
     "text": [
      "Identifier: SISTER_PRISMA_L2A_CORFL_20200911T170127_985_TAG_TESTING\n",
      "Submission status: success\n",
      "Job ID: 00fdc90f-0b8f-45d2-a3a7-5c4dbacc3bdf\n",
      "Identifier: SISTER_AVCL_L2A_CORFL_20170507T010011_985_TAG_TESTING\n",
      "Submission status: success\n",
      "Job ID: fafb5143-5e82-4564-8f4c-6d44ccaffd61\n",
      "Identifier: SISTER_AVNG_L2A_CORFL_20180429t045252_985_TAG_TESTING\n",
      "Submission status: success\n",
      "Job ID: 8dac0cab-08ef-4cc8-8180-67dab670e5e6\n",
      "Identifier: SISTER_DESIS_L2A_CORFL_20190609T195930_985_TAG_TESTING\n",
      "Submission status: success\n",
      "Job ID: d2c8fae5-2fff-4ac9-a286-3e7754b001cf\n"
     ]
    }
   ],
   "source": [
    "for i,scene in enumerate(scenes):\n",
    "\n",
    "    identifier = f'SISTER_{scene[\"sensor\"]}_L2A_CORFL_{scene[\"datetime\"]}_{scene[\"crid\"]}_{meta}'\n",
    "    \n",
    "    resample_id = scene['resample']['job_id'] \n",
    "    resample_result= [ x for x in maap.getJobResult(resample_id).outputs if x.startswith(\"s3://s3.\") and \"RSRFL\" in x]\n",
    "    l2a_rsrfl,l2a_rsunc = resample_result\n",
    "    \n",
    "    scene['resample']['reflectance_dataset'] =l2a_rsrfl\n",
    "    scene['resample']['uncertainty_dataset'] =l2a_rsunc\n",
    "\n",
    "\n",
    "\n",
    "    rfl_corr_job_response = maap.submitJob(\n",
    "                                            algo_id=\"sister-reflect_correct\",\n",
    "                                            version=\"2.0.0\",\n",
    "                                            observation_dataset= scene['preprocess']['observation_dataset'],\n",
    "                                            reflectance_dataset= l2a_rsrfl,\n",
    "                                            crid = scene['crid'],\n",
    "                                            publish_to_cmr=False,\n",
    "                                            cmr_metadata={},\n",
    "                                            queue=\"sister-job_worker-16gb\",\n",
    "                                            identifier=identifier)\n",
    "\n",
    "    print(f'Identifier: {identifier}')\n",
    "    print('Submission status: %s' % rfl_corr_job_response.status)\n",
    "    print('Job ID: %s' % rfl_corr_job_response.id)\n",
    "    scene['reflect_correct']  = {'job_id' : rfl_corr_job_response.id}\n"
   ]
  },
  {
   "cell_type": "markdown",
   "id": "31719b9b",
   "metadata": {},
   "source": [
    "## Step 4. Fractional Cover"
   ]
  },
  {
   "cell_type": "code",
   "execution_count": 30,
   "id": "a4fb79f1",
   "metadata": {},
   "outputs": [
    {
     "name": "stdout",
     "output_type": "stream",
     "text": [
      "Identifier: SISTER_PRISMA_L2B_FRCOV_20200911T170127_985_TAG_TESTING\n",
      "Submission status: success\n",
      "Job ID: b8980909-0aec-490e-b6c2-76ed0c74181f\n",
      "Identifier: SISTER_AVCL_L2B_FRCOV_20170507T010011_985_TAG_TESTING\n",
      "Submission status: success\n",
      "Job ID: d7e63792-0e70-42de-ab0f-027eba77510a\n",
      "Identifier: SISTER_AVNG_L2B_FRCOV_20180429t045252_985_TAG_TESTING\n",
      "Submission status: success\n",
      "Job ID: 0c35ded0-5d03-40d9-a675-7ca760dde2aa\n",
      "Identifier: SISTER_DESIS_L2B_FRCOV_20190609T195930_985_TAG_TESTING\n",
      "Submission status: success\n",
      "Job ID: 013fa4e1-2728-48cf-b31a-751b5cdf5886\n"
     ]
    }
   ],
   "source": [
    "for i,scene in enumerate(scenes):\n",
    "\n",
    "    identifier = f'SISTER_{scene[\"sensor\"]}_L2B_FRCOV_{scene[\"datetime\"]}_{scene[\"crid\"]}_{meta}'\n",
    "    \n",
    "    correct_id = scene['reflect_correct']['job_id'] \n",
    "    correct_result= [ x for x in maap.getJobResult(correct_id).outputs if x.startswith(\"s3://s3.\") and \"CORFL\" in x]\n",
    "    l2a_corfl =  correct_result[0]\n",
    "    scene['reflect_correct']['reflectance_dataset'] = l2a_corfl\n",
    "\n",
    "    frcover_job_response = maap.submitJob(\n",
    "                                        algo_id=\"sister-fractional-cover\",\n",
    "                                        version=\"1.0.0\",\n",
    "                                        reflectance_dataset=l2a_corfl,\n",
    "                                        n_cores= 20,\n",
    "                                        refl_scale= 1,\n",
    "                                        normalization = 'brightness',\n",
    "                                        crid = scene['crid'],\n",
    "                                        publish_to_cmr=False,\n",
    "                                        cmr_metadata={},\n",
    "                                        queue=\"sister-job_worker-32gb\",\n",
    "                                        identifier= identifier)\n",
    "\n",
    "    print(f'Identifier: {identifier}')\n",
    "    print('Submission status: %s' % frcover_job_response.status)\n",
    "    print('Job ID: %s' % frcover_job_response.id)\n",
    "    scene['frcover']  = {'job_id' : frcover_job_response.id}"
   ]
  },
  {
   "cell_type": "markdown",
   "id": "44c53cca",
   "metadata": {},
   "source": [
    "## Step 6a. Vegetation biochemistry"
   ]
  },
  {
   "cell_type": "code",
   "execution_count": 32,
   "id": "1bb09888",
   "metadata": {
    "scrolled": true
   },
   "outputs": [
    {
     "name": "stdout",
     "output_type": "stream",
     "text": [
      "Identifier: SISTER_PRISMA_L2B_VEGBIOCHEM_20200911T170127_985_TAG_TESTING\n",
      "Submission status: success\n",
      "Job ID: 8db24ec0-61ef-49ef-a4d3-9bdef3ae1394\n",
      "Identifier: SISTER_AVCL_L2B_VEGBIOCHEM_20170507T010011_985_TAG_TESTING\n",
      "Submission status: success\n",
      "Job ID: d1a7b4ca-948d-40c1-9e22-3127a3d3fa94\n",
      "Identifier: SISTER_AVNG_L2B_VEGBIOCHEM_20180429t045252_985_TAG_TESTING\n",
      "Submission status: success\n",
      "Job ID: fa913bf9-5185-4490-9205-b0d5f9b94f1a\n",
      "Identifier: SISTER_DESIS_L2B_VEGBIOCHEM_20190609T195930_985_TAG_TESTING\n",
      "Submission status: success\n",
      "Job ID: 860f45b5-cbdf-48ab-aab4-775bf421c25d\n"
     ]
    }
   ],
   "source": [
    "for i,scene in enumerate(scenes):\n",
    "\n",
    "    identifier = f'SISTER_{scene[\"sensor\"]}_L2B_VEGBIOCHEM_{scene[\"datetime\"]}_{scene[\"crid\"]}_{meta}'\n",
    "    \n",
    "    frcover_id = scene['frcover']['job_id'] \n",
    "    frcover_result= [x for x in maap.getJobResult(frcover_id).outputs if x.startswith(\"s3://s3.\") and \"FRCOV\" in x]\n",
    "    l2b_frcov =  frcover_result[0]                   \n",
    "    scene['frcover']['frcover_dataset'] = l2b_frcov\n",
    "\n",
    "    vegbiochem_job_response = maap.submitJob(\n",
    "                            algo_id=\"sister-trait_estimate\",\n",
    "                            version=\"1.0.0\",\n",
    "                            reflectance_dataset= scene['reflect_correct']['reflectance_dataset'],\n",
    "                            frcov_dataset=l2b_frcov,\n",
    "                            veg_cover = 0.5,\n",
    "                            crid = scene['crid'],\n",
    "                            publish_to_cmr=False,\n",
    "                            cmr_metadata={},\n",
    "                            queue=\"sister-job_worker-16gb\",\n",
    "                            identifier=identifier)\n",
    "\n",
    "    print(f'Identifier: {identifier}')\n",
    "    print('Submission status: %s' % vegbiochem_job_response.status)\n",
    "    print('Job ID: %s' % vegbiochem_job_response.id)\n",
    "    scene['vegbiochem']  = {'job_id' : vegbiochem_job_response.id}"
   ]
  },
  {
   "cell_type": "markdown",
   "id": "1728f5e5",
   "metadata": {},
   "source": [
    "## Step 6b. Snow grainsize"
   ]
  },
  {
   "cell_type": "code",
   "execution_count": null,
   "id": "c62d121f",
   "metadata": {},
   "outputs": [],
   "source": [
    "for i,scene in enumerate(scenes):\n",
    "\n",
    "    identifier = f'SISTER_{scene[\"sensor\"]}_L2B_GRAINSIZE_{scene[\"datetime\"]}_{scene[\"crid\"]}_{meta}'\n",
    "    \n",
    "    frcover_id = scene['frcover']['job_id'] \n",
    "    frcover_result= [x for x in maap.getJobResult(frcover_id).outputs if x.startswith(\"s3://s3.\") and \"FRCOV\" in x]\n",
    "    l2b_frcov =  frcover_result[0]                   \n",
    "    scene['frcover']['frcover_dataset'] = l2b_frcov\n",
    "\n",
    "    grainsize_job_response = maap.submitJob(\n",
    "        algo_id=\"sister-grainsize\",\n",
    "        version=\"sister-dev\",\n",
    "        reflectance_dataset=  scene['reflect_correct']['reflectance_dataset'],\n",
    "        frcov_dataset= scene['frcover']['frcover_dataset'],\n",
    "        snow_cover = 0.9,\n",
    "        crid= scene['crid'],\n",
    "        publish_to_cmr=False,\n",
    "        cmr_metadata={},\n",
    "        queue=\"sister-job_worker-16gb\",\n",
    "        identifier=identifier)\n",
    "    \n",
    "    print(f'Identifier: {identifier}')\n",
    "    print('Submission status: %s' % grainsize_job_response.status)\n",
    "    print('Job ID: %s' % grainsize_job_response.id)\n",
    "    scene['grainsize']  = {'job_id' : grainsize_job_response.id}"
   ]
  },
  {
   "cell_type": "code",
   "execution_count": 12,
   "id": "fbc2e636",
   "metadata": {},
   "outputs": [],
   "source": [
    "vegbiochem_job_response = maap.submitJob(\n",
    "algo_id=\"sister-trait_estimate\",\n",
    "version=\"sister-dev\",\n",
    "reflectance_dataset='s3://s3.us-west-2.amazonaws.com:80/sister-ops-workspace/LOM/PRODUCTS/AVNG/L2A_CORFL/2018/05/14/SISTER_AVNG_L2A_CORFL_20180514T042654_987',\n",
    "frcov_dataset='s3://s3.us-west-2.amazonaws.com:80/sister-ops-workspace/LOM/PRODUCTS/AVNG/L2B_FRCOV/2018/05/14/SISTER_AVNG_L2B_FRCOV_20180514T042654_987',\n",
    "veg_cover = 0.5,\n",
    "crid = '987',\n",
    "publish_to_cmr=False,\n",
    "cmr_metadata={},\n",
    "queue=\"sister-job_worker-16gb\",\n",
    "identifier='SISTER_AVNG_L2B_VEGBIOCHEM_20180514T042654_987')"
   ]
  },
  {
   "cell_type": "code",
   "execution_count": 11,
   "id": "f9f65bb4",
   "metadata": {},
   "outputs": [
    {
     "data": {
      "text/plain": [
       "['http://sister-ops-workspace.s3-website.us-west-2.amazonaws.com/LOM/PRODUCTS/AVNG/L2A_CORFL/2018/05/14/SISTER_AVNG_L2A_CORFL_20180514T042654_987',\n",
       " 's3://s3.us-west-2.amazonaws.com:80/sister-ops-workspace/LOM/PRODUCTS/AVNG/L2A_CORFL/2018/05/14/SISTER_AVNG_L2A_CORFL_20180514T042654_987',\n",
       " 'https://s3.console.aws.amazon.com/s3/buckets/sister-ops-workspace/LOM/PRODUCTS/AVNG/L2A_CORFL/2018/05/14/SISTER_AVNG_L2A_CORFL_20180514T042654_987/?region=us-east-1&tab=overview',\n",
       " 'http://sister-ops-workspace.s3-website.us-west-2.amazonaws.com/anonymous/dps_output/sister-reflect_correct/sister-dev/2023/02/08/19/38/36/071295',\n",
       " 's3://s3.us-west-2.amazonaws.com:80/sister-ops-workspace/anonymous/dps_output/sister-reflect_correct/sister-dev/2023/02/08/19/38/36/071295',\n",
       " 'https://s3.console.aws.amazon.com/s3/buckets/sister-ops-workspace/anonymous/dps_output/sister-reflect_correct/sister-dev/2023/02/08/19/38/36/071295/?region=us-east-1&tab=overview']"
      ]
     },
     "execution_count": 11,
     "metadata": {},
     "output_type": "execute_result"
    }
   ],
   "source": [
    "maap.getJobResult('0eff29c9-2350-40da-be87-e7e58c3f9fd2').outputs\n"
   ]
  },
  {
   "cell_type": "code",
   "execution_count": null,
   "id": "46dc943e",
   "metadata": {},
   "outputs": [],
   "source": []
  }
 ],
 "metadata": {
  "kernelspec": {
   "display_name": "Python 3 (ipykernel)",
   "language": "python",
   "name": "python3"
  },
  "language_info": {
   "codemirror_mode": {
    "name": "ipython",
    "version": 3
   },
   "file_extension": ".py",
   "mimetype": "text/x-python",
   "name": "python",
   "nbconvert_exporter": "python",
   "pygments_lexer": "ipython3",
   "version": "3.8.13"
  }
 },
 "nbformat": 4,
 "nbformat_minor": 5
}
