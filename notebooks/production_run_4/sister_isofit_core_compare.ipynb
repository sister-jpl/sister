{
 "cells": [
  {
   "cell_type": "markdown",
   "id": "0c555a71",
   "metadata": {},
   "source": [
    "# Compare ISOFIT run time  with different instance types"
   ]
  },
  {
   "cell_type": "code",
   "execution_count": 89,
   "id": "abb42930",
   "metadata": {},
   "outputs": [],
   "source": [
    "import json\n",
    "import os\n",
    "import pandas as pd\n",
    "import IPython\n",
    "import datetime as dt \n",
    "import re\n",
    "import numpy as np\n",
    "import warnings\n",
    "import pandas as pd\n",
    "import requests\n",
    "import statsmodels.api as sm\n",
    "\n",
    "warnings.filterwarnings(\"ignore\")\n",
    "\n",
    "from maap.maap import MAAP\n",
    "maap = MAAP(maap_host=\"sister-api.imgspec.org\")"
   ]
  },
  {
   "cell_type": "code",
   "execution_count": 2,
   "id": "e13439d8",
   "metadata": {},
   "outputs": [],
   "source": [
    "job_list = maap.listJobs('anonymous').text\n",
    "jobs  = json.loads(job_list)"
   ]
  },
  {
   "cell_type": "code",
   "execution_count": 3,
   "id": "f1127a65",
   "metadata": {},
   "outputs": [],
   "source": [
    "crid= \"002\"\n",
    "pattern = f\"^SISTER.*{crid}$\"\n",
    "start = dt.datetime(2023, 4, 28, 0, 0)"
   ]
  },
  {
   "cell_type": "code",
   "execution_count": null,
   "id": "c09b2e36",
   "metadata": {},
   "outputs": [],
   "source": [
    "emit_rdn_datasets = []\n",
    "\n",
    "for job in jobs['jobs']:\n",
    "    job_id = list(job.keys())[0]\n",
    "    tag = job[job_id]['tags'][0]\n",
    "    tag = tag.upper()\n",
    "    output_datasets=[]\n",
    "\n",
    "    if re.match(pattern,tag):\n",
    "\n",
    "        job_info = {}\n",
    "        job_info['id'] = job_id\n",
    "        status = job[job_id]['status'].replace('job-','')\n",
    "        \n",
    "        if 'CWL' in tag:\n",
    "            sister,sensor,product,datetime,crid = tag.split('_')\n",
    "            PGE = product\n",
    "        else:\n",
    "            sister,sensor,level,product,datetime,crid = tag.split('_')\n",
    "            PGE = f'{level}_{product}'\n",
    "\n",
    "        job_info['sensor'] = sensor\n",
    "        if sensor == 'EMIT' and  PGE == 'L1B_RDN' and  status  =='completed':\n",
    "      \n",
    "            if 'metrics' in job[job_id]['job']['job_info'].keys():\n",
    "                for staged in job[job_id]['job']['job_info']['metrics']['products_staged']:\n",
    "                        for url in staged['urls']:\n",
    "                            if (url.startswith('s3')) and ('dps_output' not in url):\n",
    "                                print(url)\n",
    "                                output_datasets.append(url)\n",
    "\n",
    "            emit_rdn_datasets.append(output_datasets)\n",
    "\n",
    "\n"
   ]
  },
  {
   "cell_type": "code",
   "execution_count": null,
   "id": "c6207820",
   "metadata": {},
   "outputs": [],
   "source": [
    "len(emit_rdn_datasets)\n",
    "print(emit_rdn_datasets[0])\n",
    "emit_rdn_datasets.sort()"
   ]
  },
  {
   "cell_type": "markdown",
   "id": "9e0e485f",
   "metadata": {},
   "source": [
    "## Run c59xLarge benchmark"
   ]
  },
  {
   "cell_type": "code",
   "execution_count": 13,
   "id": "1089eb5c",
   "metadata": {},
   "outputs": [
    {
     "name": "stdout",
     "output_type": "stream",
     "text": [
      "EMIT_ISOFIT_BENCHMARK_c59xLarge_20230202T222219\n",
      "\tsuccess\n",
      "EMIT_ISOFIT_BENCHMARK_c59xLarge_20230203T184937\n",
      "\tsuccess\n",
      "EMIT_ISOFIT_BENCHMARK_c59xLarge_20230219T185854\n",
      "\tsuccess\n",
      "EMIT_ISOFIT_BENCHMARK_c59xLarge_20230220T194114\n",
      "\tsuccess\n",
      "EMIT_ISOFIT_BENCHMARK_c59xLarge_20230221T063842\n",
      "\tsuccess\n",
      "EMIT_ISOFIT_BENCHMARK_c59xLarge_20230221T081014\n",
      "\tsuccess\n",
      "EMIT_ISOFIT_BENCHMARK_c59xLarge_20230224T054535\n",
      "\tsuccess\n",
      "EMIT_ISOFIT_BENCHMARK_c59xLarge_20230227T155702\n",
      "\tsuccess\n",
      "EMIT_ISOFIT_BENCHMARK_c59xLarge_20230324T190334\n",
      "\tsuccess\n",
      "EMIT_ISOFIT_BENCHMARK_c59xLarge_20230325T230026\n",
      "\tsuccess\n"
     ]
    }
   ],
   "source": [
    "for l1b_dataset in emit_rdn_datasets[10:]:\n",
    "\n",
    "    l1b_dataset.sort()\n",
    "    l1b_rdn,l1b_loc,l1b_obs = l1b_dataset\n",
    "\n",
    "    date = os.path.basename(l1b_rdn).split('_')[4]\n",
    "    \n",
    "    identifier = f'EMIT_ISOFIT_BENCHMARK_c59xLarge_{date}'\n",
    "    print(identifier)\n",
    "    break\n",
    "    isofit_job_response = maap.submitJob(\n",
    "                                    algo_id=\"sister-isofit\",\n",
    "                                    version=\"sister-dev\",\n",
    "                                    radiance_dataset=l1b_rdn,\n",
    "                                    location_dataset = l1b_loc,\n",
    "                                    observation_dataset = l1b_obs,\n",
    "                                    segmentation_size = 40,\n",
    "                                    n_cores=36,\n",
    "                                    crid = 500,\n",
    "                                    publish_to_cmr=False,\n",
    "                                    cmr_metadata={},\n",
    "                                    queue=\"sister-job_worker-32gb\",\n",
    "                                    identifier= identifier)\n",
    "    status=isofit_job_response.status\n",
    "    print(f'\\t{status}')"
   ]
  },
  {
   "cell_type": "markdown",
   "id": "dbcca238",
   "metadata": {},
   "source": [
    "## Run c518xLarge with hyperthreading benchmark"
   ]
  },
  {
   "cell_type": "code",
   "execution_count": 10,
   "id": "43af3416",
   "metadata": {},
   "outputs": [
    {
     "name": "stdout",
     "output_type": "stream",
     "text": [
      "EMIT_ISOFIT_BENCHMARK_c518xLargeHT_20230202T222219\n",
      "\tsuccess\n",
      "EMIT_ISOFIT_BENCHMARK_c518xLargeHT_20230203T184937\n",
      "\tsuccess\n",
      "EMIT_ISOFIT_BENCHMARK_c518xLargeHT_20230219T185854\n",
      "\tsuccess\n",
      "EMIT_ISOFIT_BENCHMARK_c518xLargeHT_20230220T194114\n",
      "\tsuccess\n",
      "EMIT_ISOFIT_BENCHMARK_c518xLargeHT_20230221T063842\n",
      "\tsuccess\n",
      "EMIT_ISOFIT_BENCHMARK_c518xLargeHT_20230221T081014\n",
      "\tsuccess\n",
      "EMIT_ISOFIT_BENCHMARK_c518xLargeHT_20230224T054535\n",
      "\tsuccess\n",
      "EMIT_ISOFIT_BENCHMARK_c518xLargeHT_20230227T155702\n",
      "\tsuccess\n",
      "EMIT_ISOFIT_BENCHMARK_c518xLargeHT_20230324T190334\n",
      "\tsuccess\n",
      "EMIT_ISOFIT_BENCHMARK_c518xLargeHT_20230325T230026\n",
      "\tsuccess\n"
     ]
    }
   ],
   "source": [
    "for l1b_dataset in emit_rdn_datasets[10:]:\n",
    "\n",
    "    l1b_dataset.sort()\n",
    "    l1b_rdn,l1b_loc,l1b_obs = l1b_dataset\n",
    "\n",
    "    date = os.path.basename(l1b_rdn).split('_')[4]\n",
    "    \n",
    "    identifier = f'EMIT_ISOFIT_BENCHMARK_c518xLargeHT_{date}'\n",
    "    print(identifier)\n",
    "    isofit_job_response = maap.submitJob(\n",
    "                                    algo_id=\"sister-isofit\",\n",
    "                                    version=\"sister-dev\",\n",
    "                                    radiance_dataset=l1b_rdn,\n",
    "                                    location_dataset = l1b_loc,\n",
    "                                    observation_dataset = l1b_obs,\n",
    "                                    segmentation_size = 40,\n",
    "                                    n_cores=72,\n",
    "                                    crid = 501,\n",
    "                                    publish_to_cmr=False,\n",
    "                                    cmr_metadata={},\n",
    "                                    queue=\"sister-job_worker-c5-18xlarge\",\n",
    "                                    identifier= identifier)\n",
    "    status=isofit_job_response.status\n",
    "    print(f'\\t{status}')"
   ]
  },
  {
   "cell_type": "markdown",
   "id": "e170373d",
   "metadata": {},
   "source": [
    "## Run c518xLarge without hyperthreading benchmark"
   ]
  },
  {
   "cell_type": "code",
   "execution_count": 49,
   "id": "0b5ea4e8",
   "metadata": {},
   "outputs": [
    {
     "name": "stdout",
     "output_type": "stream",
     "text": [
      "EMIT_ISOFIT_BENCHMARK_c518xLarge_nHT_20220810T174213\n"
     ]
    }
   ],
   "source": [
    "for l1b_dataset in emit_rdn_datasets[10:]:\n",
    "\n",
    "    l1b_dataset.sort()\n",
    "    l1b_rdn,l1b_loc,l1b_obs = l1b_dataset\n",
    "\n",
    "    date = os.path.basename(l1b_rdn).split('_')[4]\n",
    "    \n",
    "    identifier = f'EMIT_ISOFIT_BENCHMARK_c518xLargenHT_{date}'\n",
    "    print(identifier)\n",
    "    break\n",
    "    isofit_job_response = maap.submitJob(\n",
    "                                    algo_id=\"sister-isofit\",\n",
    "                                    version=\"sister-dev\",\n",
    "                                    radiance_dataset=l1b_rdn,\n",
    "                                    location_dataset = l1b_loc,\n",
    "                                    observation_dataset = l1b_obs,\n",
    "                                    segmentation_size = 40,\n",
    "                                    n_cores=36,\n",
    "                                    crid = 502,\n",
    "                                    publish_to_cmr=False,\n",
    "                                    cmr_metadata={},\n",
    "                                    queue=\"sister-job_worker-32gb\",\n",
    "                                    identifier= identifier)\n",
    "    status=isofit_job_response.status\n",
    "    print(f'\\t{status}')"
   ]
  },
  {
   "cell_type": "code",
   "execution_count": 120,
   "id": "aa812b6b",
   "metadata": {},
   "outputs": [],
   "source": [
    "jobs  = json.loads(job_list)\n",
    "job_list = maap.listJobs('anonymous').text"
   ]
  },
  {
   "cell_type": "markdown",
   "id": "947640e1",
   "metadata": {},
   "source": [
    "## Get results"
   ]
  },
  {
   "cell_type": "code",
   "execution_count": 121,
   "id": "17d53600",
   "metadata": {},
   "outputs": [],
   "source": [
    "bench_df = pd.DataFrame(index=[os.path.basename(x[0]).split('_')[4] for x in emit_rdn_datasets[10:]],\n",
    "                        columns =['C59XLARGE','C518XLARGEHT','C518XLARGENHT'])\n",
    "bench_df.index.name = 'EMIT Scene'\n",
    "\n",
    "pattern = f\"EMIT_ISOFIT_BENCHMARK_.*\"\n",
    "start = dt.datetime(2023, 6, 20, 0, 0)\n",
    "\n",
    "for job in jobs['jobs']:\n",
    "    job_id = list(job.keys())[0]\n",
    "    tag = job[job_id]['tags'][0]\n",
    "    tag = tag.upper()\n",
    "\n",
    "    if re.match(pattern,tag):\n",
    "        instance = tag.split('_')[3]\n",
    "        status = job[job_id]['status'].replace('job-','')\n",
    "        if status  =='completed':\n",
    "            if 'metrics' in job[job_id]['job']['job_info'].keys():\n",
    "                for staged in job[job_id]['job']['job_info']['metrics']['products_staged']:\n",
    "                        for url in staged['urls']:\n",
    "                            if (url.startswith('http')) and ('dps_output' not in url) and not(url.endswith(\"UNC\")):\n",
    "                                basename = os.path.basename(url)\n",
    "                                metadata_url= f'{url}/{basename}.met.json'\n",
    "                                metadata = requests.get(metadata_url).json()\n",
    "                                bench_df.loc[basename.split('_')[4],instance] = metadata['apply_oe_runtime']\n",
    "        "
   ]
  },
  {
   "cell_type": "markdown",
   "id": "a52ca282",
   "metadata": {},
   "source": [
    "## Absolute time (sec)"
   ]
  },
  {
   "cell_type": "code",
   "execution_count": 122,
   "id": "080cad7d",
   "metadata": {},
   "outputs": [
    {
     "data": {
      "text/html": [
       "<div>\n",
       "<style scoped>\n",
       "    .dataframe tbody tr th:only-of-type {\n",
       "        vertical-align: middle;\n",
       "    }\n",
       "\n",
       "    .dataframe tbody tr th {\n",
       "        vertical-align: top;\n",
       "    }\n",
       "\n",
       "    .dataframe thead th {\n",
       "        text-align: right;\n",
       "    }\n",
       "</style>\n",
       "<table border=\"1\" class=\"dataframe\">\n",
       "  <thead>\n",
       "    <tr style=\"text-align: right;\">\n",
       "      <th></th>\n",
       "      <th>C59XLARGE</th>\n",
       "      <th>C518XLARGEHT</th>\n",
       "      <th>C518XLARGENHT</th>\n",
       "    </tr>\n",
       "    <tr>\n",
       "      <th>EMIT Scene</th>\n",
       "      <th></th>\n",
       "      <th></th>\n",
       "      <th></th>\n",
       "    </tr>\n",
       "  </thead>\n",
       "  <tbody>\n",
       "    <tr>\n",
       "      <th>20230202T222219</th>\n",
       "      <td>8082.306178</td>\n",
       "      <td>4256.471527</td>\n",
       "      <td>NaN</td>\n",
       "    </tr>\n",
       "    <tr>\n",
       "      <th>20230203T184937</th>\n",
       "      <td>3191.600188</td>\n",
       "      <td>1826.602212</td>\n",
       "      <td>NaN</td>\n",
       "    </tr>\n",
       "    <tr>\n",
       "      <th>20230219T185854</th>\n",
       "      <td>6013.063705</td>\n",
       "      <td>3089.594355</td>\n",
       "      <td>NaN</td>\n",
       "    </tr>\n",
       "    <tr>\n",
       "      <th>20230220T194114</th>\n",
       "      <td>3605.161631</td>\n",
       "      <td>1943.51053</td>\n",
       "      <td>NaN</td>\n",
       "    </tr>\n",
       "    <tr>\n",
       "      <th>20230221T063842</th>\n",
       "      <td>3930.994603</td>\n",
       "      <td>2173.461813</td>\n",
       "      <td>NaN</td>\n",
       "    </tr>\n",
       "    <tr>\n",
       "      <th>20230221T081014</th>\n",
       "      <td>5592.926625</td>\n",
       "      <td>3094.798864</td>\n",
       "      <td>NaN</td>\n",
       "    </tr>\n",
       "    <tr>\n",
       "      <th>20230224T054535</th>\n",
       "      <td>3458.220853</td>\n",
       "      <td>1943.989447</td>\n",
       "      <td>NaN</td>\n",
       "    </tr>\n",
       "    <tr>\n",
       "      <th>20230227T155702</th>\n",
       "      <td>5718.894956</td>\n",
       "      <td>3127.546714</td>\n",
       "      <td>NaN</td>\n",
       "    </tr>\n",
       "    <tr>\n",
       "      <th>20230324T190334</th>\n",
       "      <td>7605.876656</td>\n",
       "      <td>4138.208733</td>\n",
       "      <td>NaN</td>\n",
       "    </tr>\n",
       "    <tr>\n",
       "      <th>20230325T230026</th>\n",
       "      <td>3763.249983</td>\n",
       "      <td>2019.215213</td>\n",
       "      <td>NaN</td>\n",
       "    </tr>\n",
       "  </tbody>\n",
       "</table>\n",
       "</div>"
      ],
      "text/plain": [
       "                   C59XLARGE C518XLARGEHT C518XLARGENHT\n",
       "EMIT Scene                                             \n",
       "20230202T222219  8082.306178  4256.471527           NaN\n",
       "20230203T184937  3191.600188  1826.602212           NaN\n",
       "20230219T185854  6013.063705  3089.594355           NaN\n",
       "20230220T194114  3605.161631   1943.51053           NaN\n",
       "20230221T063842  3930.994603  2173.461813           NaN\n",
       "20230221T081014  5592.926625  3094.798864           NaN\n",
       "20230224T054535  3458.220853  1943.989447           NaN\n",
       "20230227T155702  5718.894956  3127.546714           NaN\n",
       "20230324T190334  7605.876656  4138.208733           NaN\n",
       "20230325T230026  3763.249983  2019.215213           NaN"
      ]
     },
     "execution_count": 122,
     "metadata": {},
     "output_type": "execute_result"
    }
   ],
   "source": [
    "bench_df"
   ]
  },
  {
   "cell_type": "markdown",
   "id": "0e5381bd",
   "metadata": {},
   "source": [
    "## Compute time relative to C5.9xlarge"
   ]
  },
  {
   "cell_type": "code",
   "execution_count": 123,
   "id": "e6f1362d",
   "metadata": {},
   "outputs": [
    {
     "data": {
      "text/html": [
       "<div>\n",
       "<style scoped>\n",
       "    .dataframe tbody tr th:only-of-type {\n",
       "        vertical-align: middle;\n",
       "    }\n",
       "\n",
       "    .dataframe tbody tr th {\n",
       "        vertical-align: top;\n",
       "    }\n",
       "\n",
       "    .dataframe thead th {\n",
       "        text-align: right;\n",
       "    }\n",
       "</style>\n",
       "<table border=\"1\" class=\"dataframe\">\n",
       "  <thead>\n",
       "    <tr style=\"text-align: right;\">\n",
       "      <th></th>\n",
       "      <th>C59XLARGE</th>\n",
       "      <th>C518XLARGEHT</th>\n",
       "      <th>C518XLARGENHT</th>\n",
       "    </tr>\n",
       "    <tr>\n",
       "      <th>EMIT Scene</th>\n",
       "      <th></th>\n",
       "      <th></th>\n",
       "      <th></th>\n",
       "    </tr>\n",
       "  </thead>\n",
       "  <tbody>\n",
       "    <tr>\n",
       "      <th>20230202T222219</th>\n",
       "      <td>1.0</td>\n",
       "      <td>0.526641</td>\n",
       "      <td>NaN</td>\n",
       "    </tr>\n",
       "    <tr>\n",
       "      <th>20230203T184937</th>\n",
       "      <td>1.0</td>\n",
       "      <td>0.572315</td>\n",
       "      <td>NaN</td>\n",
       "    </tr>\n",
       "    <tr>\n",
       "      <th>20230219T185854</th>\n",
       "      <td>1.0</td>\n",
       "      <td>0.513814</td>\n",
       "      <td>NaN</td>\n",
       "    </tr>\n",
       "    <tr>\n",
       "      <th>20230220T194114</th>\n",
       "      <td>1.0</td>\n",
       "      <td>0.539091</td>\n",
       "      <td>NaN</td>\n",
       "    </tr>\n",
       "    <tr>\n",
       "      <th>20230221T063842</th>\n",
       "      <td>1.0</td>\n",
       "      <td>0.552904</td>\n",
       "      <td>NaN</td>\n",
       "    </tr>\n",
       "    <tr>\n",
       "      <th>20230221T081014</th>\n",
       "      <td>1.0</td>\n",
       "      <td>0.553342</td>\n",
       "      <td>NaN</td>\n",
       "    </tr>\n",
       "    <tr>\n",
       "      <th>20230224T054535</th>\n",
       "      <td>1.0</td>\n",
       "      <td>0.562136</td>\n",
       "      <td>NaN</td>\n",
       "    </tr>\n",
       "    <tr>\n",
       "      <th>20230227T155702</th>\n",
       "      <td>1.0</td>\n",
       "      <td>0.54688</td>\n",
       "      <td>NaN</td>\n",
       "    </tr>\n",
       "    <tr>\n",
       "      <th>20230324T190334</th>\n",
       "      <td>1.0</td>\n",
       "      <td>0.54408</td>\n",
       "      <td>NaN</td>\n",
       "    </tr>\n",
       "    <tr>\n",
       "      <th>20230325T230026</th>\n",
       "      <td>1.0</td>\n",
       "      <td>0.536562</td>\n",
       "      <td>NaN</td>\n",
       "    </tr>\n",
       "  </tbody>\n",
       "</table>\n",
       "</div>"
      ],
      "text/plain": [
       "                C59XLARGE C518XLARGEHT C518XLARGENHT\n",
       "EMIT Scene                                          \n",
       "20230202T222219       1.0     0.526641           NaN\n",
       "20230203T184937       1.0     0.572315           NaN\n",
       "20230219T185854       1.0     0.513814           NaN\n",
       "20230220T194114       1.0     0.539091           NaN\n",
       "20230221T063842       1.0     0.552904           NaN\n",
       "20230221T081014       1.0     0.553342           NaN\n",
       "20230224T054535       1.0     0.562136           NaN\n",
       "20230227T155702       1.0      0.54688           NaN\n",
       "20230324T190334       1.0      0.54408           NaN\n",
       "20230325T230026       1.0     0.536562           NaN"
      ]
     },
     "execution_count": 123,
     "metadata": {},
     "output_type": "execute_result"
    }
   ],
   "source": [
    "(bench_df.T/(bench_df['C59XLARGE'])).T"
   ]
  },
  {
   "cell_type": "code",
   "execution_count": 126,
   "id": "77373626",
   "metadata": {},
   "outputs": [
    {
     "data": {
      "image/png": "[encoded data removed]",
      "text/plain": [
       "<Figure size 400x400 with 1 Axes>"
      ]
     },
     "metadata": {},
     "output_type": "display_data"
    }
   ],
   "source": [
    "plt.rc('text', usetex=True)\n",
    "plt.rc('text.latex', preamble='\\\\usepackage{sfmath}')\n",
    "plt.rc('font', family='serif')\n",
    "line_width =2 \n",
    "\n",
    "fig= plt.figure(figsize=(4,4))\n",
    "ax = fig.add_subplot(1,1,1)\n",
    "ax.scatter(bench_df['C59XLARGE'],bench_df['C518XLARGEHT'],c='k',s = 70)\n",
    "ax.set_xlabel(\"C5.9xlarge (s)\",fontsize = 20) \n",
    "ax.set_ylabel(\"C5.18xlarge (s)\",fontsize = 20) \n",
    "\n",
    "x = bench_df['C59XLARGE'].values.astype(float)\n",
    "y = bench_df['C518XLARGEHT'].values.astype(float)\n",
    "\n",
    "predict_x =np.linspace(x.min(),x.max())\n",
    "model = sm.OLS(y,sm.add_constant(x), missing='drop').fit()\n",
    "b0,b1 = np.round(model.params,3)\n",
    "predict_y = model.predict(sm.add_constant(predict_x))\n",
    "equation = f'y = {b1}x + {b0}'\n",
    "ax.text(.05,.85,equation,\n",
    "         transform=ax.transAxes,fontsize = 15) \n",
    "ax.plot(predict_x,predict_y,c = 'r')\n",
    "\n",
    "\n",
    "ax.spines['top'].set_linewidth(line_width)\n",
    "ax.spines['right'].set_linewidth(line_width)\n",
    "#change axes line widths\n",
    "ax.spines['bottom'].set_linewidth(line_width)\n",
    "ax.spines['left'].set_linewidth(line_width)"
   ]
  },
  {
   "cell_type": "code",
   "execution_count": null,
   "id": "30c16083",
   "metadata": {},
   "outputs": [],
   "source": []
  }
 ],
 "metadata": {
  "kernelspec": {
   "display_name": "Python 3 (ipykernel)",
   "language": "python",
   "name": "python3"
  },
  "language_info": {
   "codemirror_mode": {
    "name": "ipython",
    "version": 3
   },
   "file_extension": ".py",
   "mimetype": "text/x-python",
   "name": "python",
   "nbconvert_exporter": "python",
   "pygments_lexer": "ipython3",
   "version": "3.8.15"
  }
 },
 "nbformat": 4,
 "nbformat_minor": 5
}
