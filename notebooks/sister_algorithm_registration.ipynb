{
 "cells": [
  {
   "cell_type": "markdown",
   "id": "c50e68ff",
   "metadata": {},
   "source": [
    "# SISTER Algorithm registration"
   ]
  },
  {
   "cell_type": "code",
   "execution_count": null,
   "id": "77b7ab36",
   "metadata": {},
   "outputs": [],
   "source": [
    "from maap.maap import MAAP\n",
    "import IPython\n",
    "\n",
    "maap = MAAP(maap_host=\"sister-api.imgspec.org\")"
   ]
  },
  {
   "cell_type": "markdown",
   "id": "5a7febc4",
   "metadata": {},
   "source": [
    "## sister-preprocess\n",
    "\n",
    "https://github.com/EnSpec/sister-preprocess"
   ]
  },
  {
   "cell_type": "code",
   "execution_count": null,
   "id": "fc0a88bd",
   "metadata": {},
   "outputs": [],
   "source": [
    "preprocess_alg_yaml = '../../sister-preprocess/algorithm_config.yaml'\n",
    "response =maap.register_algorithm_from_yaml_file(file_path=preprocess_alg_yaml)\n",
    "print(response)"
   ]
  },
  {
   "cell_type": "markdown",
   "id": "af3701f9",
   "metadata": {},
   "source": [
    "## sister-isofit"
   ]
  },
  {
   "cell_type": "code",
   "execution_count": null,
   "id": "c808c4df",
   "metadata": {},
   "outputs": [],
   "source": [
    "isofit_alg_yaml = '../../sister-isofit/algorithm_config.yaml'\n",
    "response =maap.register_algorithm_from_yaml_file(file_path=isofit_alg_yaml)\n",
    "print(response)"
   ]
  },
  {
   "cell_type": "markdown",
   "id": "96040430",
   "metadata": {},
   "source": [
    "## sister-resample\n",
    "\n",
    "https://github.com/EnSpec/sister-resample"
   ]
  },
  {
   "cell_type": "code",
   "execution_count": null,
   "id": "71766904",
   "metadata": {},
   "outputs": [],
   "source": [
    "resample_alg_yaml = '../../sister-resample/algorithm_config.yaml'\n",
    "response =maap.register_algorithm_from_yaml_file(file_path=resample_alg_yaml)\n",
    "print(response)"
   ]
  },
  {
   "cell_type": "markdown",
   "id": "1d14b29b",
   "metadata": {},
   "source": [
    "## sister-reflect_correct\n",
    "\n",
    "https://github.com/EnSpec/sister-reflect_correct"
   ]
  },
  {
   "cell_type": "code",
   "execution_count": null,
   "id": "d2e5967d",
   "metadata": {},
   "outputs": [],
   "source": [
    "rfl_correct_alg_yaml = '../../sister-reflect_correct/algorithm_config.yaml'\n",
    "response =maap.register_algorithm_from_yaml_file(file_path=rfl_correct_alg_yaml)\n",
    "print(response)"
   ]
  },
  {
   "cell_type": "markdown",
   "id": "25467bec",
   "metadata": {},
   "source": [
    "## sister-cwl workflow\n"
   ]
  },
  {
   "cell_type": "code",
   "execution_count": null,
   "id": "c892a206",
   "metadata": {},
   "outputs": [],
   "source": [
    "IPython.display.Image('../figures/sister_cwl_workflow.png')"
   ]
  },
  {
   "cell_type": "code",
   "execution_count": null,
   "id": "530b04fe",
   "metadata": {},
   "outputs": [],
   "source": [
    "cwl_workflow_alg = {\n",
    "    \"script_command\": \"cwl-pipeline-executor/run-cwl.sh\",\n",
    "    \"repo_url\": \"https://gitlab.com/geospec/cwl-pipeline-executor.git\",\n",
    "    \"algorithm_name\":\"run_sister_workflow\",\n",
    "    \"code_version\":\"dev\",\n",
    "    \"algorithm_description\":\"Run CWL Workflow\",\n",
    "    \"environment_name\":\"ubuntu\",\n",
    "    \"disk_space\":\"10GB\",\n",
    "    \"queue\": \"sister-job_worker-8gb\",\n",
    "    \"build_command\": \"cwl-pipeline-executor/build-env.sh\",\n",
    "    \"docker_container_url\":\"mas.dit.maap-project.org/root/maap-workspaces/base_images/vanilla:dit\",\n",
    "    \"algorithm_params\":[\n",
    "        {\n",
    "            \"field\": \"workflow_config\",\n",
    "            \"type\": \"config\"\n",
    "        }\n",
    "    ]\n",
    "}\n",
    "response = maap.registerAlgorithm(arg=cwl_workflow_alg)"
   ]
  },
  {
   "cell_type": "markdown",
   "id": "cf82b772",
   "metadata": {},
   "source": [
    "## sister-trait_estimate"
   ]
  },
  {
   "cell_type": "code",
   "execution_count": 16,
   "id": "21878d01",
   "metadata": {},
   "outputs": [
    {
     "name": "stderr",
     "output_type": "stream",
     "text": [
      "/Users/achlus/opt/anaconda3/envs/python38/lib/python3.8/site-packages/urllib3/connectionpool.py:1045: InsecureRequestWarning: Unverified HTTPS request is being made to host 'sister-api.imgspec.org'. Adding certificate verification is strongly advised. See: https://urllib3.readthedocs.io/en/1.26.x/advanced-usage.html#ssl-warnings\n",
      "  warnings.warn(\n"
     ]
    },
    {
     "name": "stdout",
     "output_type": "stream",
     "text": [
      "<Response [200]>\n"
     ]
    }
   ],
   "source": [
    "trait_estimate_alg_yaml = '../../sister-trait_estimate/algorithm_config.yaml'\n",
    "response =maap.register_algorithm_from_yaml_file(file_path=trait_estimate_alg_yaml)\n",
    "print(response)"
   ]
  },
  {
   "cell_type": "markdown",
   "id": "10a70e61",
   "metadata": {},
   "source": [
    "## sister-fractional_cover"
   ]
  },
  {
   "cell_type": "code",
   "execution_count": null,
   "id": "2aaaf956",
   "metadata": {},
   "outputs": [],
   "source": [
    "cover_alg_yaml = '../../sister-fractional-cover/algorithm_config.yaml'\n",
    "response =maap.register_algorithm_from_yaml_file(file_path=cover_alg_yaml)\n",
    "print(response)"
   ]
  },
  {
   "cell_type": "markdown",
   "id": "7b8024fc",
   "metadata": {},
   "source": [
    "## sister-grainsize"
   ]
  },
  {
   "cell_type": "code",
   "execution_count": null,
   "id": "69a05aa5",
   "metadata": {},
   "outputs": [],
   "source": [
    "grainsize_alg_yaml = '../../sister-grainsize/algorithm_config.yaml'\n",
    "response =maap.register_algorithm_from_yaml_file(file_path=grainsize_alg_yaml)\n",
    "print(response)"
   ]
  },
  {
   "cell_type": "code",
   "execution_count": null,
   "id": "7910942d",
   "metadata": {},
   "outputs": [],
   "source": []
  }
 ],
 "metadata": {
  "kernelspec": {
   "display_name": "Python 3 (ipykernel)",
   "language": "python",
   "name": "python3"
  },
  "language_info": {
   "codemirror_mode": {
    "name": "ipython",
    "version": 3
   },
   "file_extension": ".py",
   "mimetype": "text/x-python",
   "name": "python",
   "nbconvert_exporter": "python",
   "pygments_lexer": "ipython3",
   "version": "3.8.13"
  }
 },
 "nbformat": 4,
 "nbformat_minor": 5
}
