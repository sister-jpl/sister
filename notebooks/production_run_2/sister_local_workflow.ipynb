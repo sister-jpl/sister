{
 "cells": [
  {
   "cell_type": "markdown",
   "id": "92f1151e",
   "metadata": {},
   "source": [
    "# SISTER workflow"
   ]
  },
  {
   "cell_type": "code",
   "execution_count": 38,
   "id": "af102d2f",
   "metadata": {},
   "outputs": [],
   "source": [
    "import json\n",
    "import os\n",
    "import xml.etree.ElementTree as ET\n",
    "import pandas as pd\n",
    "import IPython\n",
    "from itertools import groupby\n",
    "\n",
    "# Import warnings module and ignore warnings in output below\n",
    "import warnings\n",
    "warnings.filterwarnings(\"ignore\")\n",
    "\n",
    "# Import and initialize MAAP class\n",
    "from maap.maap import MAAP\n",
    "maap = MAAP(maap_host=\"sister-api.imgspec.org\")"
   ]
  },
  {
   "cell_type": "markdown",
   "id": "0f2a42bb",
   "metadata": {},
   "source": [
    "### Create unique scene identifier"
   ]
  },
  {
   "cell_type": "code",
   "execution_count": 45,
   "id": "7206c6ad",
   "metadata": {},
   "outputs": [],
   "source": [
    "scenes = []"
   ]
  },
  {
   "cell_type": "code",
   "execution_count": 46,
   "id": "f191030c",
   "metadata": {},
   "outputs": [
    {
     "name": "stdout",
     "output_type": "stream",
     "text": [
      "{'sensor': 'AVCL', 'datetime': '20110816T010008', 'crid': '993', 'preprocess': {'raw_dataset': 'https://popo.jpl.nasa.gov/avcl/y11_data/f110816t01p00r08.tar.gz', 'landsat_dataset': 'None'}}\n",
      "{'sensor': 'AVCL', 'datetime': '20110814T010016', 'crid': '993', 'preprocess': {'raw_dataset': 'https://popo.jpl.nasa.gov/avcl/y11_data/f110814t01p00r16.tar.gz', 'landsat_dataset': 'None'}}\n",
      "{'sensor': 'AVCL', 'datetime': '20110810T010007', 'crid': '993', 'preprocess': {'raw_dataset': 'https://popo.jpl.nasa.gov/avcl/y11_data/f110810t01p00r07.tar.gz', 'landsat_dataset': 'None'}}\n",
      "{'sensor': 'AVCL', 'datetime': '20100826T010007', 'crid': '993', 'preprocess': {'raw_dataset': 'https://popo.jpl.nasa.gov/avcl/y10_data/f100826t01p00r07.tar.gz', 'landsat_dataset': 'None'}}\n",
      "{'sensor': 'AVCL', 'datetime': '20090729T010005', 'crid': '993', 'preprocess': {'raw_dataset': 'https://popo.jpl.nasa.gov/avcl/y09_data/f090729t01p00r05.tar.gz', 'landsat_dataset': 'None'}}\n"
     ]
    }
   ],
   "source": [
    "granules = ['https://popo.jpl.nasa.gov/avcl/y11_data/f110816t01p00r08.tar.gz',\n",
    "            'https://popo.jpl.nasa.gov/avcl/y11_data/f110814t01p00r16.tar.gz',\n",
    "            'https://popo.jpl.nasa.gov/avcl/y11_data/f110810t01p00r07.tar.gz',\n",
    "            'https://popo.jpl.nasa.gov/avcl/y10_data/f100826t01p00r07.tar.gz',\n",
    "            'https://popo.jpl.nasa.gov/avcl/y09_data/f090729t01p00r05.tar.gz']\n",
    "meta = '_NETWORKTEST'\n",
    "\n",
    "crid = \"993\"\n",
    "\n",
    "for l1_granule in granules:\n",
    "    \n",
    "    landsat = 'None'   \n",
    "\n",
    "    base_name = os.path.basename(l1_granule)\n",
    "\n",
    "    if base_name.startswith('DESIS'):\n",
    "        sensor = 'DESIS'\n",
    "        datetime = base_name[31:46]\n",
    "\n",
    "    elif base_name.startswith('PRS'):\n",
    "        sensor = 'PRISMA'\n",
    "        datetime = base_name[16:24] + 'T' + base_name[24:30]\n",
    "        landsat='https://sister-ops-workspace.s3.us-west-2.amazonaws.com/prisma/landsat_reference/PRS_%s_landsat.tar.gz' % base_name[16:50]\n",
    "\n",
    "    elif base_name.startswith('ang'):\n",
    "        sensor = 'AVNG'\n",
    "        datetime = base_name[3:18]\n",
    "\n",
    "    elif base_name.startswith('f'):\n",
    "        sensor = 'AVCL'\n",
    "        ''' AVIRIS classic filenames do not contain acquisition times,to be consistent with other\n",
    "            sensors and to ensure identifier codes are unique a time string is created using other\n",
    "            numbers in the filename            \n",
    "        '''     \n",
    "\n",
    "        datetime = \"20%sT%s%s%s\" % (base_name[1:7],\n",
    "                                    base_name[8:10],\n",
    "                                    base_name[11:13],\n",
    "                                    base_name[14:16])\n",
    "    else:\n",
    "        raise ValueError('Unrecognized L1 datafile')\n",
    "\n",
    "    job_args = {'sensor': sensor,\n",
    "                'datetime': datetime,\n",
    "                 'crid' : crid}\n",
    "    job_args['preprocess'] = {'raw_dataset': l1_granule,\n",
    "                              'landsat_dataset' : landsat}\n",
    "\n",
    "    print(job_args)\n",
    "    \n",
    "    scenes.append(job_args)\n"
   ]
  },
  {
   "cell_type": "markdown",
   "id": "46d7584d",
   "metadata": {},
   "source": [
    "## Step 1. Preprocess"
   ]
  },
  {
   "cell_type": "code",
   "execution_count": 48,
   "id": "bcc20ad1",
   "metadata": {},
   "outputs": [
    {
     "data": {
      "text/plain": [
       "{'job_id': '', 'status': 'failed', 'machine_type': None, 'architecture': None, 'machine_memory_size': None, 'directory_size': None, 'operating_system': None, 'job_start_time': None, 'job_end_time': None, 'job_duration_seconds': None, 'cpu_usage': None, 'cache_usage': None, 'mem_usage': None, 'max_mem_usage': None, 'swap_usage': None, 'read_io_stats': None, 'write_io_stats': None, 'sync_io_stats': None, 'async_io_stats': None, 'total_io_stats': None, 'error_details': None, 'response_code': 502, 'outputs': []}"
      ]
     },
     "execution_count": 48,
     "metadata": {},
     "output_type": "execute_result"
    }
   ],
   "source": [
    "preprocess_job_response"
   ]
  },
  {
   "cell_type": "code",
   "execution_count": 47,
   "id": "a716c10d",
   "metadata": {
    "scrolled": true
   },
   "outputs": [
    {
     "name": "stdout",
     "output_type": "stream",
     "text": [
      "Identifier: SISTER_AVCL_L1B_RDN_20110816T010008_993_NETWORKTEST\n",
      "Submission status: failed\n",
      "Job ID: \n",
      "Identifier: SISTER_AVCL_L1B_RDN_20110814T010016_993_NETWORKTEST\n",
      "Submission status: failed\n",
      "Job ID: \n",
      "Identifier: SISTER_AVCL_L1B_RDN_20110810T010007_993_NETWORKTEST\n",
      "Submission status: success\n",
      "Job ID: 886b584c-8cb5-4133-9d68-f7d424826eb0\n",
      "Identifier: SISTER_AVCL_L1B_RDN_20100826T010007_993_NETWORKTEST\n",
      "Submission status: success\n",
      "Job ID: 6853e9c7-0d79-4948-bdb5-4ef3796e8029\n",
      "Identifier: SISTER_AVCL_L1B_RDN_20090729T010005_993_NETWORKTEST\n",
      "Submission status: failed\n",
      "Job ID: \n"
     ]
    }
   ],
   "source": [
    "for i,scene in enumerate(scenes):\n",
    "        \n",
    "    if scene['sensor'] == 'AVCL':\n",
    "        queue=\"sister-job_worker-32gb\"\n",
    "    else:\n",
    "        queue=\"sister-job_worker-16gb\"\n",
    "    \n",
    "    identifier = f'SISTER_{scene[\"sensor\"]}_L1B_RDN_{scene[\"datetime\"]}_{scene[\"crid\"]}{meta}'\n",
    "    \n",
    "    preprocess_job_response = maap.submitJob(\n",
    "        algo_id = \"sister-preprocess\",\n",
    "        version = \"2.0.0\",\n",
    "        raw_dataset = scene['preprocess']['raw_dataset'],\n",
    "        landsat_dataset = scene['preprocess']['landsat_dataset'],\n",
    "        crid = scene['crid'],\n",
    "        publish_to_cmr = False,\n",
    "        cmr_metadata={},\n",
    "        queue=queue,\n",
    "        identifier= identifier)\n",
    "\n",
    "    print(f'Identifier: {identifier}')\n",
    "    print(f'Submission status: {preprocess_job_response.status}')\n",
    "    print(f'Job ID: {preprocess_job_response.id}')\n",
    "          \n",
    "    scene['preprocess']['job_id'] = preprocess_job_response.id\n",
    "    "
   ]
  },
  {
   "cell_type": "markdown",
   "id": "5f4d3b77",
   "metadata": {},
   "source": [
    "## Step 2. ISOFIT\n"
   ]
  },
  {
   "cell_type": "code",
   "execution_count": 35,
   "id": "565fa276",
   "metadata": {},
   "outputs": [
    {
     "name": "stdout",
     "output_type": "stream",
     "text": [
      "Identifier: SISTER_AVCL_L2A_RFL_20110814T010016_997_SBG_GLEON\n",
      "Submission status: success\n",
      "Job ID: 071976ed-8af1-410e-ac10-aeba44d169eb\n"
     ]
    }
   ],
   "source": [
    "for i,scene in enumerate(scenes[:1]):\n",
    "        \n",
    "    if scene['sensor'] == 'AVCL':\n",
    "        segmentation_size = 100\n",
    "    else:\n",
    "        segmentation_size = 25\n",
    "    \n",
    "    identifier = f'SISTER_{scene[\"sensor\"]}_L2A_RFL_{scene[\"datetime\"]}_{scene[\"crid\"]}{meta}'\n",
    "    \n",
    "    preprocess_id = scene['preprocess']['job_id'] \n",
    "    \n",
    "    preprocess_result= [ x for x in maap.getJobResult(preprocess_id).outputs if x.startswith(\"s3://s3.\") and \"RDN\" in x]\n",
    "    preprocess_result.sort()\n",
    "    l1b_rdn,l1b_loc, l1b_obs = preprocess_result\n",
    "    \n",
    "    scene['preprocess']['radiance_dataset'] =l1b_rdn\n",
    "    scene['preprocess']['location_dataset'] =l1b_loc\n",
    "    scene['preprocess']['observation_dataset'] =l1b_obs\n",
    "\n",
    "    isofit_job_response = maap.submitJob(\n",
    "                                    algo_id=\"sister-isofit\",\n",
    "                                    version=\"sister-dev\",\n",
    "                                    radiance_dataset=l1b_rdn,\n",
    "                                    location_dataset = l1b_loc,\n",
    "                                    observation_dataset = l1b_obs,\n",
    "                                    segmentation_size = segmentation_size,\n",
    "                                    n_cores=32,\n",
    "                                    crid = scene['crid'],\n",
    "                                    publish_to_cmr=False,\n",
    "                                    cmr_metadata={},\n",
    "                                    queue=\"sister-job_worker-32gb\",\n",
    "                                    identifier= identifier)\n",
    "\n",
    "    print(f'Identifier: {identifier}')\n",
    "    print(f'Submission status: {isofit_job_response.status}')\n",
    "    print(f'Job ID: {isofit_job_response.id}')\n",
    "    \n",
    "    scene['isofit']  = {'job_id' : isofit_job_response.id}\n"
   ]
  },
  {
   "cell_type": "code",
   "execution_count": 19,
   "id": "d7013623",
   "metadata": {},
   "outputs": [],
   "source": [
    "scenes[1]['preprocess']['job_id'] = 'a7d9634f-672c-450c-bfcf-d6e27eea91ae'"
   ]
  },
  {
   "cell_type": "markdown",
   "id": "512d12bd",
   "metadata": {},
   "source": [
    "## Step 3. Spectral resample"
   ]
  },
  {
   "cell_type": "code",
   "execution_count": 22,
   "id": "e21aeb80",
   "metadata": {},
   "outputs": [
    {
     "name": "stdout",
     "output_type": "stream",
     "text": [
      "Identifier: SISTER_AVCL_L2A_RSRFL_20110816T010008_999_SBG_GLEON\n",
      "Submission status: success\n",
      "Job ID: 977e88a2-6054-4a5a-b664-42b157b14d3f\n",
      "Identifier: SISTER_AVCL_L2A_RSRFL_20110814T010016_999_SBG_GLEON\n",
      "Submission status: success\n",
      "Job ID: ac84c589-7b3b-4169-9dc5-64471a6832d0\n"
     ]
    }
   ],
   "source": [
    "for i,scene in enumerate(scenes[:2]):\n",
    "\n",
    "    identifier = f'SISTER_{scene[\"sensor\"]}_L2A_RSRFL_{scene[\"datetime\"]}_{scene[\"crid\"]}{meta}'\n",
    "    \n",
    "    isofit_id = scene['isofit']['job_id'] \n",
    "\n",
    "    iso_result= [ x for x in maap.getJobResult(isofit_id).outputs if x.startswith(\"s3://s3.\") and \"RFL\" in x]\n",
    "    l2a_rfl,l2a_unc = iso_result\n",
    "        \n",
    "    scene['isofit']['reflectance_dataset'] =l2a_rfl\n",
    "    scene['isofit']['uncertainty_dataset'] =l2a_unc\n",
    "\n",
    "    resample_job_response = maap.submitJob(\n",
    "                                            algo_id=\"sister-resample\",\n",
    "                                            version=\"sister-dev\",\n",
    "                                            reflectance_dataset= l2a_rfl,\n",
    "                                            uncertainty_dataset= l2a_unc,\n",
    "                                            crid = scene['crid'],\n",
    "                                            publish_to_cmr=False,\n",
    "                                            cmr_metadata={},\n",
    "                                            queue=\"sister-job_worker-32gb\",\n",
    "                                            identifier=identifier)\n",
    "\n",
    "    print(f'Identifier: {identifier}')\n",
    "    print('Submission status: %s' % resample_job_response.status)\n",
    "    print('Job ID: %s' % resample_job_response.id)\n",
    "    scene['resample']  = {'job_id' : resample_job_response.id}\n"
   ]
  },
  {
   "cell_type": "markdown",
   "id": "cad6701e",
   "metadata": {},
   "source": [
    "## Step 3. Reflectance correction"
   ]
  },
  {
   "cell_type": "code",
   "execution_count": 23,
   "id": "efb10ad1",
   "metadata": {},
   "outputs": [
    {
     "name": "stdout",
     "output_type": "stream",
     "text": [
      "Identifier: SISTER_PRISMA_L2A_CORFL_20201225T185042_999\n",
      "Submission status: success\n",
      "Job ID: 0c041470-c7d1-49f1-a4e9-4bce52a20de3\n"
     ]
    }
   ],
   "source": [
    "for i,scene in enumerate(scenes[:1]):\n",
    "\n",
    "    identifier = f'SISTER_{scene[\"sensor\"]}_L2A_CORFL_{scene[\"datetime\"]}_{scene[\"crid\"]}{meta}'\n",
    "    \n",
    "    resample_id = scene['resample']['job_id'] \n",
    "    resample_result= [ x for x in maap.getJobResult(resample_id).outputs if x.startswith(\"s3://s3.\") and \"RSRFL\" in x]\n",
    "    l2a_rsrfl,l2a_rsunc = resample_result\n",
    "    \n",
    "    scene['resample']['reflectance_dataset'] =l2a_rsrfl\n",
    "    scene['resample']['uncertainty_dataset'] =l2a_rsunc\n",
    "\n",
    "\n",
    "\n",
    "    rfl_corr_job_response = maap.submitJob(\n",
    "                                            algo_id=\"sister-reflect_correct\",\n",
    "                                            version=\"2.0.0\",\n",
    "                                            observation_dataset= scene['preprocess']['observation_dataset'],\n",
    "                                            reflectance_dataset= l2a_rsrfl,\n",
    "                                            crid = scene['crid'],\n",
    "                                            publish_to_cmr=False,\n",
    "                                            cmr_metadata={},\n",
    "                                            queue=\"sister-job_worker-32gb\",\n",
    "                                            identifier=identifier)\n",
    "\n",
    "    print(f'Identifier: {identifier}')\n",
    "    print('Submission status: %s' % rfl_corr_job_response.status)\n",
    "    print('Job ID: %s' % rfl_corr_job_response.id)\n",
    "    scene['reflect_correct']  = {'job_id' : rfl_corr_job_response.id}\n"
   ]
  },
  {
   "cell_type": "markdown",
   "id": "31719b9b",
   "metadata": {},
   "source": [
    "## Step 4. Fractional Cover"
   ]
  },
  {
   "cell_type": "code",
   "execution_count": 62,
   "id": "a4fb79f1",
   "metadata": {},
   "outputs": [
    {
     "name": "stdout",
     "output_type": "stream",
     "text": [
      "Identifier: SISTER_AVNG_L2B_FRCOVER_20210429t185927_001\n",
      "Submission status: success\n",
      "Job ID: 7aa78421-f947-40a3-815f-f62601a9d5a3\n",
      "Identifier: SISTER_AVCL_L2B_FRCOVER_20130612T010012_001\n",
      "Submission status: success\n",
      "Job ID: ee051eb3-6de2-4c60-ade1-43ea0344df62\n"
     ]
    }
   ],
   "source": [
    "for i,scene in enumerate(scenes[1:3]):\n",
    "\n",
    "    identifier = f'SISTER_{scene[\"sensor\"]}_L2B_FRCOVER_{scene[\"datetime\"]}_{scene[\"crid\"]}{meta}'\n",
    "    \n",
    "    correct_id = scene['reflect_correct']['job_id'] \n",
    "    correct_result= [ x for x in maap.getJobResult(correct_id).outputs if x.startswith(\"s3://s3.\") and \"CORFL\" in x]\n",
    "    l2a_corfl =  correct_result[0]\n",
    "    scene['reflect_correct']['reflectance_dataset'] = l2a_corfl\n",
    "\n",
    "    frcover_job_response = maap.submitJob(\n",
    "                                        algo_id=\"sister-fractional-cover\",\n",
    "                                        version=\"1.0.0\",\n",
    "                                        reflectance_dataset=l2a_corfl,\n",
    "                                        n_cores= 20,\n",
    "                                        refl_scale= 1,\n",
    "                                        normalization = 'brightness',\n",
    "                                        crid = scene['crid'],\n",
    "                                        publish_to_cmr=False,\n",
    "                                        cmr_metadata={},\n",
    "                                        queue=\"sister-job_worker-32gb\",\n",
    "                                        identifier= identifier)\n",
    "\n",
    "    print(f'Identifier: {identifier}')\n",
    "    print('Submission status: %s' % frcover_job_response.status)\n",
    "    print('Job ID: %s' % frcover_job_response.id)\n",
    "    scene['frcover']  = {'job_id' : frcover_job_response.id}"
   ]
  },
  {
   "cell_type": "markdown",
   "id": "44c53cca",
   "metadata": {},
   "source": [
    "## Step 6a. Vegetation biochemistry"
   ]
  },
  {
   "cell_type": "code",
   "execution_count": 63,
   "id": "1bb09888",
   "metadata": {
    "scrolled": true
   },
   "outputs": [
    {
     "name": "stdout",
     "output_type": "stream",
     "text": [
      "Identifier: SISTER_AVCL_L2B_VEGBIOCHEM_20130612T010012_001\n",
      "Submission status: success\n",
      "Job ID: 585874a3-49ee-4ab7-a644-bb9a78381cf9\n"
     ]
    }
   ],
   "source": [
    "for i,scene in enumerate(scenes[2:3]):\n",
    "\n",
    "    identifier = f'SISTER_{scene[\"sensor\"]}_L2B_VEGBIOCHEM_{scene[\"datetime\"]}_{scene[\"crid\"]}{meta}'\n",
    "    \n",
    "    frcover_id = scene['frcover']['job_id'] \n",
    "    frcover_result= [x for x in maap.getJobResult(frcover_id).outputs if x.startswith(\"s3://s3.\") and \"FRCOV\" in x]\n",
    "    l2b_frcov =  frcover_result[0]                   \n",
    "    scene['frcover']['frcover_dataset'] = l2b_frcov\n",
    "\n",
    "    vegbiochem_job_response = maap.submitJob(\n",
    "                            algo_id=\"sister-trait_estimate\",\n",
    "                            version=\"1.0.0\",\n",
    "                            reflectance_dataset= scene['reflect_correct']['reflectance_dataset'],\n",
    "                            frcov_dataset=l2b_frcov,\n",
    "                            veg_cover = 0.5,\n",
    "                            crid = scene['crid'],\n",
    "                            publish_to_cmr=False,\n",
    "                            cmr_metadata={},\n",
    "                            queue=\"sister-job_worker-32gb\",\n",
    "                            identifier=identifier)\n",
    "\n",
    "    print(f'Identifier: {identifier}')\n",
    "    print('Submission status: %s' % vegbiochem_job_response.status)\n",
    "    print('Job ID: %s' % vegbiochem_job_response.id)\n",
    "    scene['vegbiochem']  = {'job_id' : vegbiochem_job_response.id}"
   ]
  },
  {
   "cell_type": "markdown",
   "id": "1728f5e5",
   "metadata": {},
   "source": [
    "## Step 6b. Snow grainsize"
   ]
  },
  {
   "cell_type": "code",
   "execution_count": 65,
   "id": "c62d121f",
   "metadata": {},
   "outputs": [
    {
     "name": "stdout",
     "output_type": "stream",
     "text": [
      "Identifier: SISTER_AVCL_L2B_GRAINSIZE_20130612T010012_001\n",
      "Submission status: success\n",
      "Job ID: 8b1453b2-899e-4ca1-9caa-772bef4fe0b5\n"
     ]
    }
   ],
   "source": [
    "for i,scene in enumerate(scenes[2:3]):\n",
    "    identifier = f'SISTER_{scene[\"sensor\"]}_L2B_GRAINSIZE_{scene[\"datetime\"]}_{scene[\"crid\"]}{meta}'\n",
    "    \n",
    "    frcover_id = scene['frcover']['job_id'] \n",
    "    frcover_result= [x for x in maap.getJobResult(frcover_id).outputs if x.startswith(\"s3://s3.\") and \"FRCOV\" in x]\n",
    "    l2b_frcov =  frcover_result[0]                   \n",
    "    scene['frcover']['frcover_dataset'] = l2b_frcov\n",
    "\n",
    "    grainsize_job_response = maap.submitJob(\n",
    "        algo_id=\"sister-grainsize\",\n",
    "        version=\"1.0.0\",\n",
    "        reflectance_dataset=  scene['reflect_correct']['reflectance_dataset'],\n",
    "        frcov_dataset= scene['frcover']['frcover_dataset'],\n",
    "        snow_cover = 0.9,\n",
    "        crid= scene['crid'],\n",
    "        publish_to_cmr=False,\n",
    "        cmr_metadata={},\n",
    "        queue=\"sister-job_worker-32gb\",\n",
    "        identifier=identifier)\n",
    "    \n",
    "    print(f'Identifier: {identifier}')\n",
    "    print('Submission status: %s' % grainsize_job_response.status)\n",
    "    print('Job ID: %s' % grainsize_job_response.id)\n",
    "    scene['grainsize']  = {'job_id' : grainsize_job_response.id}"
   ]
  },
  {
   "cell_type": "code",
   "execution_count": 50,
   "id": "ecf112e5",
   "metadata": {},
   "outputs": [
    {
     "name": "stdout",
     "output_type": "stream",
     "text": [
      "Identifier: SISTER_AVCL_L2A_RSRFL_20130612T010014_001\n",
      "Submission status: success\n",
      "Job ID: e0a034c8-354e-4edb-b2d7-349a6f256b76\n"
     ]
    }
   ],
   "source": [
    "identifier = f'SISTER_AVCL_L2A_RSRFL_20130612T010014_001'\n",
    "\n",
    "l2a_rfl = 's3://s3.us-west-2.amazonaws.com:80/sister-ops-workspace/LOM/PRODUCTS/AVCL/L2A_RFL/2013/06/12/SISTER_AVCL_L2A_RFL_20130612T191820_001'\n",
    "l2a_unc =  's3://s3.us-west-2.amazonaws.com:80/sister-ops-workspace/LOM/PRODUCTS/AVCL/L2A_RFL/2013/06/12/SISTER_AVCL_L2A_RFL_20130612T191820_001_UNC'\n",
    "\n",
    "resample_job_response = maap.submitJob(\n",
    "                                        algo_id=\"sister-resample\",\n",
    "                                        version=\"2.0.0\",\n",
    "                                        reflectance_dataset= l2a_rfl,\n",
    "                                        uncertainty_dataset= l2a_unc,\n",
    "                                        crid = \"001\",\n",
    "                                        publish_to_cmr=False,\n",
    "                                        cmr_metadata={},\n",
    "                                        queue=\"sister-job_worker-16gb\",\n",
    "                                        identifier=identifier)\n",
    "\n",
    "print(f'Identifier: {identifier}')\n",
    "print('Submission status: %s' % resample_job_response.status)\n",
    "print('Job ID: %s' % resample_job_response.id)\n",
    "scene['resample']  = {'job_id' : resample_job_response.id}"
   ]
  },
  {
   "cell_type": "code",
   "execution_count": 53,
   "id": "71e07efe",
   "metadata": {},
   "outputs": [],
   "source": [
    "identifier = f'SISTER_AVCL_L2A_CORFL_20130612T010014_001'\n",
    "l1b_obs  = 's3://s3.us-west-2.amazonaws.com:80/sister-ops-workspace/LOM/PRODUCTS/AVCL/L1B_RDN/2013/06/12/SISTER_AVCL_L1B_RDN_20130612T191820_001_OBS'\n",
    "l2a_rsrfl = 's3://s3.us-west-2.amazonaws.com:80/sister-ops-workspace/LOM/PRODUCTS/AVCL/L2A_RSRFL/2013/06/12/SISTER_AVCL_L2A_RSRFL_20130612T191820_001'\n",
    "rfl_corr_job_response = maap.submitJob(\n",
    "                                        algo_id=\"sister-reflect_correct\",\n",
    "                                        version=\"2.0.0\",\n",
    "                                        observation_dataset= l1b_obs,\n",
    "                                        reflectance_dataset= l2a_rsrfl,\n",
    "                                        crid = '001',\n",
    "                                        publish_to_cmr=False,\n",
    "                                        cmr_metadata={},\n",
    "                                        queue=\"sister-job_worker-32gb\",\n",
    "                                        identifier=identifier)"
   ]
  },
  {
   "cell_type": "code",
   "execution_count": 67,
   "id": "2603ca3a",
   "metadata": {},
   "outputs": [],
   "source": [
    "identifier = f'SISTER_AVCL_L2B_FRCOVER_20130612T010014_001'\n",
    "l2a_corfl = 's3://s3.us-west-2.amazonaws.com:80/sister-ops-workspace/LOM/PRODUCTS/AVCL/L2A_CORFL/2013/06/12/SISTER_AVCL_L2A_CORFL_20130612T191820_001'\n",
    "\n",
    "frcover_job_response = maap.submitJob(\n",
    "                                    algo_id=\"sister-fractional-cover\",\n",
    "                                    version=\"1.0.0\",\n",
    "                                    reflectance_dataset=l2a_corfl,\n",
    "                                    n_cores= 20,\n",
    "                                    refl_scale= 1,\n",
    "                                    normalization = 'brightness',\n",
    "                                    crid = \"001\",\n",
    "                                    publish_to_cmr=False,\n",
    "                                    cmr_metadata={},\n",
    "                                    queue=\"sister-job_worker-32gb\",\n",
    "                                    identifier= identifier)\n",
    "\n",
    "\n"
   ]
  },
  {
   "cell_type": "code",
   "execution_count": 71,
   "id": "fb01e7cc",
   "metadata": {},
   "outputs": [],
   "source": [
    "identifier = f'SISTER_AVCL_L2B_VEGBIOCHEM_20130612T010014_001'\n",
    "l2a_corfl = 's3://s3.us-west-2.amazonaws.com:80/sister-ops-workspace/LOM/PRODUCTS/AVCL/L2A_CORFL/2013/06/12/SISTER_AVCL_L2A_CORFL_20130612T191820_001'\n",
    "l2b_frcov = 's3://s3.us-west-2.amazonaws.com:80/sister-ops-workspace/LOM/PRODUCTS/AVCL/L2B_FRCOV/2013/06/12/SISTER_AVCL_L2B_FRCOV_20130612T191820_001'\n",
    "\n",
    "vegbiochem_job_response = maap.submitJob(\n",
    "                            algo_id=\"sister-trait_estimate\",\n",
    "                            version=\"1.0.0\",\n",
    "                            reflectance_dataset= l2a_corfl,\n",
    "                            frcov_dataset=l2b_frcov,\n",
    "                            veg_cover = 0.5,\n",
    "                            crid = \"001\",\n",
    "                            publish_to_cmr=False,\n",
    "                            cmr_metadata={},\n",
    "                            queue=\"sister-job_worker-32gb\",\n",
    "                            identifier=identifier)\n"
   ]
  },
  {
   "cell_type": "code",
   "execution_count": 76,
   "id": "91bc1be0",
   "metadata": {},
   "outputs": [
    {
     "name": "stdout",
     "output_type": "stream",
     "text": [
      "{'job_id': 'f6093543-da14-41a7-b4f5-7bd8c5238176', 'status': 'success', 'machine_type': None, 'architecture': None, 'machine_memory_size': None, 'directory_size': None, 'operating_system': None, 'job_start_time': None, 'job_end_time': None, 'job_duration_seconds': None, 'cpu_usage': None, 'cache_usage': None, 'mem_usage': None, 'max_mem_usage': None, 'swap_usage': None, 'read_io_stats': None, 'write_io_stats': None, 'sync_io_stats': None, 'async_io_stats': None, 'total_io_stats': None, 'error_details': None, 'response_code': 200, 'outputs': []}\n"
     ]
    }
   ],
   "source": [
    "identifier = f'SISTER_AVCL_L2B_GRAINSIZE_20130612T010014_001'\n",
    "l2a_corfl = 's3://s3.us-west-2.amazonaws.com:80/sister-ops-workspace/LOM/PRODUCTS/AVCL/L2A_CORFL/2013/06/12/SISTER_AVCL_L2A_CORFL_20130612T191820_001'\n",
    "l2b_frcov = 's3://s3.us-west-2.amazonaws.com:80/sister-ops-workspace/LOM/PRODUCTS/AVCL/L2B_FRCOV/2013/06/12/SISTER_AVCL_L2B_FRCOV_20130612T191820_001'\n",
    "\n",
    "grainsize_job_response = maap.submitJob(\n",
    "    algo_id=\"sister-grainsize\",\n",
    "    version=\"1.0.0\",\n",
    "    reflectance_dataset= l2a_corfl,\n",
    "    frcov_dataset= l2b_frcov,\n",
    "    snow_cover = 0.9,\n",
    "    crid= \"001\",\n",
    "    publish_to_cmr=False,\n",
    "    cmr_metadata={},\n",
    "    queue=\"sister-job_worker-16gb\",\n",
    "    identifier=identifier)\n",
    "\n",
    "print(grainsize_job_response)"
   ]
  },
  {
   "cell_type": "code",
   "execution_count": 18,
   "id": "4e8a9f06",
   "metadata": {},
   "outputs": [
    {
     "data": {
      "text/plain": [
       "{'job_id': '', 'status': 'failed', 'machine_type': None, 'architecture': None, 'machine_memory_size': None, 'directory_size': None, 'operating_system': None, 'job_start_time': None, 'job_end_time': None, 'job_duration_seconds': None, 'cpu_usage': None, 'cache_usage': None, 'mem_usage': None, 'max_mem_usage': None, 'swap_usage': None, 'read_io_stats': None, 'write_io_stats': None, 'sync_io_stats': None, 'async_io_stats': None, 'total_io_stats': None, 'error_details': None, 'response_code': 502, 'outputs': []}"
      ]
     },
     "execution_count": 18,
     "metadata": {},
     "output_type": "execute_result"
    }
   ],
   "source": [
    "preprocess_job_response"
   ]
  },
  {
   "cell_type": "code",
   "execution_count": null,
   "id": "1a23641e",
   "metadata": {},
   "outputs": [],
   "source": []
  }
 ],
 "metadata": {
  "kernelspec": {
   "display_name": "Python 3 (ipykernel)",
   "language": "python",
   "name": "python3"
  },
  "language_info": {
   "codemirror_mode": {
    "name": "ipython",
    "version": 3
   },
   "file_extension": ".py",
   "mimetype": "text/x-python",
   "name": "python",
   "nbconvert_exporter": "python",
   "pygments_lexer": "ipython3",
   "version": "3.8.13"
  }
 },
 "nbformat": 4,
 "nbformat_minor": 5
}
