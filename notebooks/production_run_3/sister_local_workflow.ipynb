{
 "cells": [
  {
   "cell_type": "markdown",
   "id": "92f1151e",
   "metadata": {},
   "source": [
    "# SISTER workflow"
   ]
  },
  {
   "cell_type": "code",
   "execution_count": 3,
   "id": "af102d2f",
   "metadata": {},
   "outputs": [],
   "source": [
    "import json\n",
    "import os\n",
    "import xml.etree.ElementTree as ET\n",
    "import pandas as pd\n",
    "import IPython\n",
    "from itertools import groupby\n",
    "\n",
    "# Import warnings module and ignore warnings in output below\n",
    "import warnings\n",
    "warnings.filterwarnings(\"ignore\")\n",
    "\n",
    "# Import and initialize MAAP class\n",
    "from maap.maap import MAAP\n",
    "maap = MAAP(maap_host=\"sister-api.imgspec.org\")"
   ]
  },
  {
   "cell_type": "markdown",
   "id": "0f2a42bb",
   "metadata": {},
   "source": [
    "### Create unique scene identifier"
   ]
  },
  {
   "cell_type": "code",
   "execution_count": 4,
   "id": "7206c6ad",
   "metadata": {},
   "outputs": [],
   "source": [
    "scenes = []"
   ]
  },
  {
   "cell_type": "code",
   "execution_count": 5,
   "id": "f191030c",
   "metadata": {
    "scrolled": true
   },
   "outputs": [
    {
     "name": "stdout",
     "output_type": "stream",
     "text": [
      "{'sensor': 'EMIT', 'datetime': '20220810T174213', 'crid': '500', 'preprocess': {'raw_dataset': 'https://data.lpdaac.earthdatacloud.nasa.gov/lp-prod-protected/EMITL1BRAD.001/EMIT_L1B_RAD_001_20220810T174213_2222212_001/EMIT_L1B_RAD_001_20220810T174213_2222212_001.nc', 'landsat_dataset': 'None'}}\n",
      "{'sensor': 'PRISMA', 'datetime': '20210730T211000', 'crid': '500', 'preprocess': {'raw_dataset': 'https://sister-ops-workspace.s3.us-west-2.amazonaws.com/prisma/raw/PRS_L1_STD_OFFL_20210730211000_20210730211004_0001.zip', 'landsat_dataset': 'https://sister-ops-workspace.s3.us-west-2.amazonaws.com/prisma/landsat_reference/PRS_20210730211000_20210730211004_0001_landsat.tar.gz'}}\n",
      "{'sensor': 'AVCL', 'datetime': '20180126T010008', 'crid': '500', 'preprocess': {'raw_dataset': 'https://popo.jpl.nasa.gov/avcl/y18_data/f180126t01p00r08.tar.gz', 'landsat_dataset': 'None'}}\n",
      "{'sensor': 'AVNG', 'datetime': '20220529t184338', 'crid': '500', 'preprocess': {'raw_dataset': 'https://popo.jpl.nasa.gov/avng/y22/ang20220529t184338.tar.gz', 'landsat_dataset': 'None'}}\n",
      "{'sensor': 'DESIS', 'datetime': '20220204T204959', 'crid': '500', 'preprocess': {'raw_dataset': 'https://sister-ops-workspace.s3.us-west-2.amazonaws.com/desis/raw/DESIS-HSI-L1C-DT0685618328_002-20220204T204959-V0215.zip', 'landsat_dataset': 'None'}}\n"
     ]
    }
   ],
   "source": [
    "granules = ['https://data.lpdaac.earthdatacloud.nasa.gov/lp-prod-protected/EMITL1BRAD.001/EMIT_L1B_RAD_001_20220810T174213_2222212_001/EMIT_L1B_RAD_001_20220810T174213_2222212_001.nc',\n",
    "            'https://sister-ops-workspace.s3.us-west-2.amazonaws.com/prisma/raw/PRS_L1_STD_OFFL_20210730211000_20210730211004_0001.zip',\n",
    "            'https://popo.jpl.nasa.gov/avcl/y18_data/f180126t01p00r08.tar.gz',\n",
    "            'https://popo.jpl.nasa.gov/avng/y22/ang20220529t184338.tar.gz',\n",
    "            'https://sister-ops-workspace.s3.us-west-2.amazonaws.com/desis/raw/DESIS-HSI-L1C-DT0685618328_002-20220204T204959-V0215.zip']\n",
    "\n",
    "meta = '_aquatic_scenes_test'\n",
    "\n",
    "crid = \"500\"\n",
    "\n",
    "for l1_granule in granules:\n",
    "    \n",
    "    landsat = 'None'   \n",
    "\n",
    "    base_name = os.path.basename(l1_granule)\n",
    "\n",
    "    if base_name.startswith('DESIS'):\n",
    "        sensor = 'DESIS'\n",
    "        datetime = base_name[31:46]\n",
    "\n",
    "    elif base_name.startswith('PRS'):\n",
    "        sensor = 'PRISMA'\n",
    "        datetime = base_name[16:24] + 'T' + base_name[24:30]\n",
    "        landsat='https://sister-ops-workspace.s3.us-west-2.amazonaws.com/prisma/landsat_reference/PRS_%s_landsat.tar.gz' % base_name[16:50]\n",
    "\n",
    "    elif base_name.startswith('ang'):\n",
    "        sensor = 'AVNG'\n",
    "        datetime = base_name[3:18]\n",
    "\n",
    "    elif base_name.startswith('f'):\n",
    "        sensor = 'AVCL'\n",
    "        ''' AVIRIS classic filenames do not contain acquisition times,to be consistent with other\n",
    "            sensors and to ensure identifier codes are unique a time string is created using other\n",
    "            numbers in the filename            \n",
    "        '''     \n",
    "\n",
    "        datetime = \"20%sT%s%s%s\" % (base_name[1:7],\n",
    "                                    base_name[8:10],\n",
    "                                    base_name[11:13],\n",
    "                                    base_name[14:16])\n",
    "        \n",
    "    elif base_name.startswith(\"EMIT\"):\n",
    "        sensor = 'EMIT'\n",
    "        datetime = base_name.split('_')[4]\n",
    "        \n",
    "    else:\n",
    "        raise ValueError('Unrecognized L1 datafile')\n",
    "\n",
    "    job_args = {'sensor': sensor,\n",
    "                'datetime': datetime,\n",
    "                 'crid' : crid}\n",
    "    job_args['preprocess'] = {'raw_dataset': l1_granule,\n",
    "                              'landsat_dataset' : landsat}\n",
    "\n",
    "    print(job_args)\n",
    "    \n",
    "    scenes.append(job_args)\n"
   ]
  },
  {
   "cell_type": "markdown",
   "id": "46d7584d",
   "metadata": {},
   "source": [
    "## Step 1. Preprocess"
   ]
  },
  {
   "cell_type": "code",
   "execution_count": 6,
   "id": "a716c10d",
   "metadata": {
    "scrolled": true
   },
   "outputs": [
    {
     "name": "stdout",
     "output_type": "stream",
     "text": [
      "Identifier: SISTER_EMIT_L1B_RDN_20220810T174213_500_aquatic_scenes_test\n",
      "Submission status: success\n",
      "Job ID: f511fee6-98fb-44f1-8698-dc3384554ad6\n",
      "Identifier: SISTER_PRISMA_L1B_RDN_20210730T211000_500_aquatic_scenes_test\n",
      "Submission status: success\n",
      "Job ID: 4b24ba6a-f3f6-4fee-8b2e-05ac0c76b0ab\n",
      "Identifier: SISTER_AVCL_L1B_RDN_20180126T010008_500_aquatic_scenes_test\n",
      "Submission status: success\n",
      "Job ID: 058a832e-d205-4502-9992-aef3e2296417\n",
      "Identifier: SISTER_AVNG_L1B_RDN_20220529t184338_500_aquatic_scenes_test\n",
      "Submission status: success\n",
      "Job ID: dfe87ac1-478a-4efd-9256-5a3b12fb4eda\n",
      "Identifier: SISTER_DESIS_L1B_RDN_20220204T204959_500_aquatic_scenes_test\n",
      "Submission status: success\n",
      "Job ID: 68cd510a-33d0-41ac-b9ea-efd38d6f711c\n"
     ]
    }
   ],
   "source": [
    "for i,scene in enumerate(scenes):\n",
    "        \n",
    "    if scene['sensor'] in ['AVCL','EMIT']:\n",
    "        queue=\"sister-job_worker-32gb\"\n",
    "    else:\n",
    "        queue=\"sister-job_worker-16gb\"\n",
    "    \n",
    "    identifier = f'SISTER_{scene[\"sensor\"]}_L1B_RDN_{scene[\"datetime\"]}_{scene[\"crid\"]}{meta}'\n",
    "    print(f'Identifier: {identifier}')\n",
    "\n",
    "    status = ''\n",
    "    while status != 'success':\n",
    "        preprocess_job_response = maap.submitJob(\n",
    "            algo_id = \"sister-preprocess\",\n",
    "            version = \"sister-dev\",\n",
    "            raw_dataset = scene['preprocess']['raw_dataset'],\n",
    "            crid = scene['crid'],\n",
    "            publish_to_cmr = False,\n",
    "            cmr_metadata={},\n",
    "            queue=queue,\n",
    "            identifier= identifier)\n",
    "        status = preprocess_job_response.status\n",
    "        print(f'Submission status: {status}')\n",
    "        print(f'Job ID: {preprocess_job_response.id}')\n",
    "          \n",
    "    scene['preprocess']['job_id'] = preprocess_job_response.id\n",
    "    "
   ]
  },
  {
   "cell_type": "markdown",
   "id": "5f4d3b77",
   "metadata": {},
   "source": [
    "## Step 2. ISOFIT\n"
   ]
  },
  {
   "cell_type": "code",
   "execution_count": 7,
   "id": "565fa276",
   "metadata": {},
   "outputs": [
    {
     "name": "stdout",
     "output_type": "stream",
     "text": [
      "Identifier: SISTER_EMIT_L2A_RFL_20220810T174213_500_aquatic_scenes_test\n",
      "Submission status: success\n",
      "Job ID: 305f8934-55b0-45db-9c94-cd145f09d8de\n",
      "Identifier: SISTER_PRISMA_L2A_RFL_20210730T211000_500_aquatic_scenes_test\n",
      "Submission status: success\n",
      "Job ID: c28aaa0e-a043-4b38-8cb8-15da6b4df306\n",
      "Identifier: SISTER_AVCL_L2A_RFL_20180126T010008_500_aquatic_scenes_test\n",
      "Submission status: success\n",
      "Job ID: f1923b6f-4e1d-4196-a8d1-7c12291ced37\n",
      "Identifier: SISTER_AVNG_L2A_RFL_20220529t184338_500_aquatic_scenes_test\n",
      "Submission status: success\n",
      "Job ID: e1035462-1c3e-485c-ba0b-3864549a608d\n",
      "Identifier: SISTER_DESIS_L2A_RFL_20220204T204959_500_aquatic_scenes_test\n",
      "Submission status: success\n",
      "Job ID: f3a7e1c2-7a62-4d67-8c7a-6de3bc491df9\n"
     ]
    }
   ],
   "source": [
    "for i,scene in enumerate(scenes):\n",
    "        \n",
    "    if scene['sensor'] == 'AVCL':\n",
    "        segmentation_size = 100\n",
    "    else:\n",
    "        segmentation_size = 40\n",
    "    \n",
    "    identifier = f'SISTER_{scene[\"sensor\"]}_L2A_RFL_{scene[\"datetime\"]}_{scene[\"crid\"]}{meta}'\n",
    "    print(f'Identifier: {identifier}')\n",
    "\n",
    "    preprocess_id = scene['preprocess']['job_id'] \n",
    "    \n",
    "    preprocess_result= [ x for x in maap.getJobResult(preprocess_id).outputs if x.startswith(\"s3://s3.\") and \"RDN\" in x]\n",
    "    preprocess_result.sort()\n",
    "    l1b_rdn,l1b_loc, l1b_obs = preprocess_result\n",
    "    \n",
    "    scene['preprocess']['radiance_dataset'] =l1b_rdn\n",
    "    scene['preprocess']['location_dataset'] =l1b_loc\n",
    "    scene['preprocess']['observation_dataset'] =l1b_obs\n",
    "    status = ''\n",
    "    while status != 'success':\n",
    "        isofit_job_response = maap.submitJob(\n",
    "                                        algo_id=\"sister-isofit\",\n",
    "                                        version=\"sister-dev\",\n",
    "                                        radiance_dataset=l1b_rdn,\n",
    "                                        location_dataset = l1b_loc,\n",
    "                                        observation_dataset = l1b_obs,\n",
    "                                        segmentation_size = segmentation_size,\n",
    "                                        n_cores=32,\n",
    "                                        crid = scene['crid'],\n",
    "                                        publish_to_cmr=False,\n",
    "                                        cmr_metadata={},\n",
    "                                        queue=\"sister-job_worker-32gb\",\n",
    "                                        identifier= identifier)\n",
    "        status = isofit_job_response.status\n",
    "        print(f'Submission status: {status}')\n",
    "        print(f'Job ID: {isofit_job_response.id}')\n",
    "\n",
    "    scene['isofit']  = {'job_id' : isofit_job_response.id}\n"
   ]
  },
  {
   "cell_type": "markdown",
   "id": "512d12bd",
   "metadata": {},
   "source": [
    "## Step 3. Spectral resample"
   ]
  },
  {
   "cell_type": "code",
   "execution_count": 10,
   "id": "e21aeb80",
   "metadata": {
    "scrolled": true
   },
   "outputs": [
    {
     "name": "stdout",
     "output_type": "stream",
     "text": [
      "Identifier: SISTER_EMIT_L2A_RSRFL_20220810T174213_500_aquatic_scenes_test\n",
      "Submission status: success\n",
      "Job ID: e8a804d4-14d0-444f-8e78-51e183f5b06d\n",
      "Identifier: SISTER_PRISMA_L2A_RSRFL_20210730T211000_500_aquatic_scenes_test\n",
      "Submission status: success\n",
      "Job ID: 8a415118-f9ac-4c04-b2b1-4db618e1c251\n",
      "Identifier: SISTER_AVCL_L2A_RSRFL_20180126T010008_500_aquatic_scenes_test\n",
      "Submission status: success\n",
      "Job ID: f118593f-d7b9-4947-a880-672a56a680d1\n",
      "Identifier: SISTER_AVNG_L2A_RSRFL_20220529t184338_500_aquatic_scenes_test\n",
      "Submission status: success\n",
      "Job ID: d60c75eb-ac9d-4d35-a1d0-d4654a11941e\n",
      "Identifier: SISTER_DESIS_L2A_RSRFL_20220204T204959_500_aquatic_scenes_test\n",
      "Submission status: success\n",
      "Job ID: fcd6fd20-2b53-401e-bdba-d74fc0b5a1bf\n"
     ]
    }
   ],
   "source": [
    "for i,scene in enumerate(scenes):\n",
    "\n",
    "    identifier = f'SISTER_{scene[\"sensor\"]}_L2A_RSRFL_{scene[\"datetime\"]}_{scene[\"crid\"]}{meta}'\n",
    "    \n",
    "    isofit_id = scene['isofit']['job_id'] \n",
    "\n",
    "    iso_result= [ x for x in maap.getJobResult(isofit_id).outputs if x.startswith(\"s3://s3.\") and \"RFL\" in x]\n",
    "    l2a_rfl,l2a_unc = iso_result\n",
    "        \n",
    "    scene['isofit']['reflectance_dataset'] =l2a_rfl\n",
    "    scene['isofit']['uncertainty_dataset'] =l2a_unc\n",
    "\n",
    "    resample_job_response = maap.submitJob(\n",
    "                                            algo_id=\"sister-resample\",\n",
    "                                            version=\"sister-dev\",\n",
    "                                            reflectance_dataset= l2a_rfl,\n",
    "                                            uncertainty_dataset= l2a_unc,\n",
    "                                            crid = scene['crid'],\n",
    "                                            publish_to_cmr=False,\n",
    "                                            cmr_metadata={},\n",
    "                                            queue=\"sister-job_worker-16gb\",\n",
    "                                            identifier=identifier)\n",
    "\n",
    "    print(f'Identifier: {identifier}')\n",
    "    print('Submission status: %s' % resample_job_response.status)\n",
    "    print('Job ID: %s' % resample_job_response.id)\n",
    "    scene['resample']  = {'job_id' : resample_job_response.id}\n"
   ]
  },
  {
   "cell_type": "markdown",
   "id": "cad6701e",
   "metadata": {},
   "source": [
    "## Step 3. Reflectance correction"
   ]
  },
  {
   "cell_type": "code",
   "execution_count": 11,
   "id": "efb10ad1",
   "metadata": {},
   "outputs": [
    {
     "name": "stdout",
     "output_type": "stream",
     "text": [
      "Identifier: SISTER_EMIT_L2A_CORFL_20220810T174213_500_aquatic_scenes_test\n",
      "Submission status: success\n",
      "Job ID: 1e36877f-f23c-4d5d-abf5-d297140e864f\n",
      "Identifier: SISTER_PRISMA_L2A_CORFL_20210730T211000_500_aquatic_scenes_test\n",
      "Submission status: success\n",
      "Job ID: 25f188c5-bbb1-42e4-96ed-b04659142e78\n",
      "Identifier: SISTER_AVCL_L2A_CORFL_20180126T010008_500_aquatic_scenes_test\n",
      "Submission status: success\n",
      "Job ID: e2ff5c75-f0eb-460c-928d-1c6feb979d4d\n",
      "Identifier: SISTER_AVNG_L2A_CORFL_20220529t184338_500_aquatic_scenes_test\n",
      "Submission status: success\n",
      "Job ID: 4eb4fd54-ceeb-4867-9f79-5a57d41991bb\n",
      "Identifier: SISTER_DESIS_L2A_CORFL_20220204T204959_500_aquatic_scenes_test\n",
      "Submission status: success\n",
      "Job ID: 232b9e4c-0d67-48a3-807d-24137c782ac8\n"
     ]
    }
   ],
   "source": [
    "for i,scene in enumerate(scenes):\n",
    "\n",
    "    identifier = f'SISTER_{scene[\"sensor\"]}_L2A_CORFL_{scene[\"datetime\"]}_{scene[\"crid\"]}{meta}'\n",
    "    \n",
    "    resample_id = scene['resample']['job_id'] \n",
    "    resample_result= [ x for x in maap.getJobResult(resample_id).outputs if x.startswith(\"s3://s3.\") and \"RSRFL\" in x]\n",
    "    l2a_rsrfl,l2a_rsunc = resample_result\n",
    "    \n",
    "    scene['resample']['reflectance_dataset'] =l2a_rsrfl\n",
    "    scene['resample']['uncertainty_dataset'] =l2a_rsunc\n",
    "\n",
    "\n",
    "\n",
    "    rfl_corr_job_response = maap.submitJob(\n",
    "                                            algo_id=\"sister-reflect_correct\",\n",
    "                                            version=\"sister-dev\",\n",
    "                                            observation_dataset= scene['preprocess']['observation_dataset'],\n",
    "                                            reflectance_dataset= l2a_rsrfl,\n",
    "                                            crid = scene['crid'],\n",
    "                                            publish_to_cmr=False,\n",
    "                                            cmr_metadata={},\n",
    "                                            queue=\"sister-job_worker-16gb\",\n",
    "                                            identifier=identifier)\n",
    "\n",
    "    print(f'Identifier: {identifier}')\n",
    "    print('Submission status: %s' % rfl_corr_job_response.status)\n",
    "    print('Job ID: %s' % rfl_corr_job_response.id)\n",
    "    scene['reflect_correct']  = {'job_id' : rfl_corr_job_response.id}\n"
   ]
  },
  {
   "cell_type": "markdown",
   "id": "31719b9b",
   "metadata": {},
   "source": [
    "## Step 4. Fractional Cover"
   ]
  },
  {
   "cell_type": "code",
   "execution_count": 12,
   "id": "a4fb79f1",
   "metadata": {
    "scrolled": true
   },
   "outputs": [
    {
     "name": "stdout",
     "output_type": "stream",
     "text": [
      "Identifier: SISTER_EMIT_L2B_FRCOVER_20220810T174213_500_aquatic_scenes_test\n",
      "Submission status: success\n",
      "Job ID: b25bb9ec-7ddc-4bfd-91a7-51513433abeb\n",
      "Identifier: SISTER_PRISMA_L2B_FRCOVER_20210730T211000_500_aquatic_scenes_test\n",
      "Submission status: success\n",
      "Job ID: fb2273af-31b3-4b60-8072-c707f8a4e2fd\n",
      "Identifier: SISTER_AVCL_L2B_FRCOVER_20180126T010008_500_aquatic_scenes_test\n",
      "Submission status: success\n",
      "Job ID: 15f90690-7e23-4b2e-9251-3b3fa7b3c3e3\n",
      "Identifier: SISTER_AVNG_L2B_FRCOVER_20220529t184338_500_aquatic_scenes_test\n",
      "Submission status: success\n",
      "Job ID: a544c1f7-9e49-4e9e-8f5b-19d0b63816a3\n",
      "Identifier: SISTER_DESIS_L2B_FRCOVER_20220204T204959_500_aquatic_scenes_test\n",
      "Submission status: success\n",
      "Job ID: 97c4ede5-730b-439b-a733-b4fac7223853\n"
     ]
    }
   ],
   "source": [
    "for i,scene in enumerate(scenes):\n",
    "\n",
    "    identifier = f'SISTER_{scene[\"sensor\"]}_L2B_FRCOVER_{scene[\"datetime\"]}_{scene[\"crid\"]}{meta}'\n",
    "    \n",
    "    correct_id = scene['reflect_correct']['job_id'] \n",
    "    correct_result= [ x for x in maap.getJobResult(correct_id).outputs if x.startswith(\"s3://s3.\") and \"CORFL\" in x]\n",
    "    l2a_corfl =  correct_result[0]\n",
    "    scene['reflect_correct']['reflectance_dataset'] = l2a_corfl\n",
    "\n",
    "    frcover_job_response = maap.submitJob(\n",
    "                                        algo_id=\"sister-fractional-cover\",\n",
    "                                        version=\"sister-dev\",\n",
    "                                        reflectance_dataset=l2a_corfl,\n",
    "                                        n_cores= 32,\n",
    "                                        refl_scale= 1,\n",
    "                                        crid = scene['crid'],\n",
    "                                        publish_to_cmr=False,\n",
    "                                        cmr_metadata={},\n",
    "                                        queue=\"sister-job_worker-32gb\",\n",
    "                                        identifier= identifier)\n",
    "\n",
    "    print(f'Identifier: {identifier}')\n",
    "    print('Submission status: %s' % frcover_job_response.status)\n",
    "    print('Job ID: %s' % frcover_job_response.id)\n",
    "    scene['frcover']  = {'job_id' : frcover_job_response.id}"
   ]
  },
  {
   "cell_type": "markdown",
   "id": "44c53cca",
   "metadata": {},
   "source": [
    "## Step 6a. Vegetation biochemistry"
   ]
  },
  {
   "cell_type": "code",
   "execution_count": 13,
   "id": "1bb09888",
   "metadata": {
    "scrolled": true
   },
   "outputs": [
    {
     "name": "stdout",
     "output_type": "stream",
     "text": [
      "Identifier: SISTER_EMIT_L2B_VEGBIOCHEM_20220810T174213_500_aquatic_scenes_test\n",
      "Submission status: success\n",
      "Job ID: 7f01cb36-e4c4-4462-bab3-e8adb7c7e967\n",
      "Identifier: SISTER_PRISMA_L2B_VEGBIOCHEM_20210730T211000_500_aquatic_scenes_test\n",
      "Submission status: success\n",
      "Job ID: 84a4bc35-b376-4787-b5c4-f9ebf22e80e1\n",
      "Identifier: SISTER_AVCL_L2B_VEGBIOCHEM_20180126T010008_500_aquatic_scenes_test\n",
      "Submission status: success\n",
      "Job ID: e1f5d19c-31f1-4d6e-a7c1-d2eea02246f4\n",
      "Identifier: SISTER_AVNG_L2B_VEGBIOCHEM_20220529t184338_500_aquatic_scenes_test\n",
      "Submission status: success\n",
      "Job ID: 1a2c5336-fcf7-4b44-ad52-0a3e2aec9939\n",
      "Identifier: SISTER_DESIS_L2B_VEGBIOCHEM_20220204T204959_500_aquatic_scenes_test\n",
      "Submission status: success\n",
      "Job ID: 1359d1fe-cedb-4a92-a439-ad965ca62c77\n"
     ]
    }
   ],
   "source": [
    "for i,scene in enumerate(scenes):\n",
    "\n",
    "    identifier = f'SISTER_{scene[\"sensor\"]}_L2B_VEGBIOCHEM_{scene[\"datetime\"]}_{scene[\"crid\"]}{meta}'\n",
    "    \n",
    "    frcover_id = scene['frcover']['job_id'] \n",
    "    frcover_result= [x for x in maap.getJobResult(frcover_id).outputs if x.startswith(\"s3://s3.\") and \"FRCOV\" in x]\n",
    "    l2b_frcov =  frcover_result[0]                   \n",
    "    scene['frcover']['frcover_dataset'] = l2b_frcov\n",
    "\n",
    "    vegbiochem_job_response = maap.submitJob(\n",
    "                            algo_id=\"sister-trait_estimate\",\n",
    "                            version=\"1.0.0\",\n",
    "                            reflectance_dataset= scene['reflect_correct']['reflectance_dataset'],\n",
    "                            frcov_dataset=l2b_frcov,\n",
    "                            veg_cover = 0.5,\n",
    "                            crid = scene['crid'],\n",
    "                            publish_to_cmr=False,\n",
    "                            cmr_metadata={},\n",
    "                            queue=\"sister-job_worker-32gb\",\n",
    "                            identifier=identifier)\n",
    "\n",
    "    print(f'Identifier: {identifier}')\n",
    "    print('Submission status: %s' % vegbiochem_job_response.status)\n",
    "    print('Job ID: %s' % vegbiochem_job_response.id)\n",
    "    scene['vegbiochem']  = {'job_id' : vegbiochem_job_response.id}"
   ]
  },
  {
   "cell_type": "markdown",
   "id": "1728f5e5",
   "metadata": {},
   "source": [
    "## Step 6b. Snow grainsize"
   ]
  },
  {
   "cell_type": "code",
   "execution_count": 25,
   "id": "c62d121f",
   "metadata": {},
   "outputs": [
    {
     "name": "stdout",
     "output_type": "stream",
     "text": [
      "Identifier: SISTER_AVCL_L2B_GRAINSIZE_20080706T010009_999_workflow_testing\n",
      "Submission status: success\n",
      "Job ID: 597363ae-50bf-4e3f-a7c1-f8b08956b6c8\n",
      "Identifier: SISTER_AVNG_L2B_GRAINSIZE_20190718t165926_999_workflow_testing\n",
      "Submission status: success\n",
      "Job ID: 33daf9fb-432b-4b9c-923e-444e3d02b076\n",
      "Identifier: SISTER_DESIS_L2B_GRAINSIZE_20190609T195930_999_workflow_testing\n",
      "Submission status: success\n",
      "Job ID: 13341715-f53c-48da-a86c-a5e8c8a46be5\n",
      "Identifier: SISTER_PRISMA_L2B_GRAINSIZE_20221130T163741_999_workflow_testing\n",
      "Submission status: success\n",
      "Job ID: 3b40ff12-b4a5-412c-bb74-e415c61141f7\n",
      "Identifier: SISTER_EMIT_L2B_GRAINSIZE_20230324T221148_999_workflow_testing\n",
      "Submission status: success\n",
      "Job ID: 025c410a-21cb-4880-a4b7-31a1ba635055\n"
     ]
    }
   ],
   "source": [
    "for i,scene in enumerate(scenes):\n",
    "    identifier = f'SISTER_{scene[\"sensor\"]}_L2B_GRAINSIZE_{scene[\"datetime\"]}_{scene[\"crid\"]}{meta}'\n",
    "    \n",
    "    frcover_id = scene['frcover']['job_id'] \n",
    "    frcover_result= [x for x in maap.getJobResult(frcover_id).outputs if x.startswith(\"s3://s3.\") and \"FRCOV\" in x]\n",
    "    l2b_frcov =  frcover_result[0]                   \n",
    "    scene['frcover']['frcover_dataset'] = l2b_frcov\n",
    "\n",
    "    grainsize_job_response = maap.submitJob(\n",
    "        algo_id=\"sister-grainsize\",\n",
    "        version=\"1.0.0\",\n",
    "        reflectance_dataset=  scene['reflect_correct']['reflectance_dataset'],\n",
    "        frcov_dataset= scene['frcover']['frcover_dataset'],\n",
    "        snow_cover = 0.9,\n",
    "        crid= scene['crid'],\n",
    "        publish_to_cmr=False,\n",
    "        cmr_metadata={},\n",
    "        queue=\"sister-job_worker-16gb\",\n",
    "        identifier=identifier)\n",
    "    \n",
    "    print(f'Identifier: {identifier}')\n",
    "    print('Submission status: %s' % grainsize_job_response.status)\n",
    "    print('Job ID: %s' % grainsize_job_response.id)\n",
    "    scene['grainsize']  = {'job_id' : grainsize_job_response.id}"
   ]
  },
  {
   "cell_type": "code",
   "execution_count": null,
   "id": "1a23641e",
   "metadata": {},
   "outputs": [],
   "source": []
  }
 ],
 "metadata": {
  "kernelspec": {
   "display_name": "Python 3 (ipykernel)",
   "language": "python",
   "name": "python3"
  },
  "language_info": {
   "codemirror_mode": {
    "name": "ipython",
    "version": 3
   },
   "file_extension": ".py",
   "mimetype": "text/x-python",
   "name": "python",
   "nbconvert_exporter": "python",
   "pygments_lexer": "ipython3",
   "version": "3.8.13"
  }
 },
 "nbformat": 4,
 "nbformat_minor": 5
}
